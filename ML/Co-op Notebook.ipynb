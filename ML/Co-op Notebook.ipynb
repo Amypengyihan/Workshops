{
 "cells": [
  {
   "cell_type": "markdown",
   "metadata": {
    "slideshow": {
     "slide_type": "-"
    }
   },
   "source": [
    "# $\\Omega$ Pandas\n",
    "\n",
    "> `pandas` is a Python package providing fast, flexible, and expressive data structures designed to make working with “relational” or “labeled” data both easy and intuitive. It aims to be the fundamental high-level building block for doing practical, real world data analysis in Python. Additionally, it has the broader goal of becoming the most powerful and flexible open source data analysis / manipulation tool available in any language. It is already well on its way toward this goal.\n",
    "\n",
    "> `pandas` is well suited for many different kinds of data:\n",
    "\n",
    "> * Tabular data with heterogeneously-typed columns, as in an SQL table or Excel spreadsheet\n",
    "* Ordered and unordered (not necessarily fixed-frequency) time series data.\n",
    "* Arbitrary matrix data (homogeneously typed or heterogeneous) with row and column labels\n",
    "* Any other form of observational / statistical data sets. The data actually need not be labeled at all to be placed into a pandas data structure\n",
    "\n",
    "For more tutorials, visit: https://pandas.pydata.org/pandas-docs/stable/tutorials.html"
   ]
  },
  {
   "cell_type": "markdown",
   "metadata": {},
   "source": [
    "### Imports\n",
    "\n",
    "Here we import Pandas and Matplotlib for data visualization"
   ]
  },
  {
   "cell_type": "code",
   "execution_count": 3,
   "metadata": {},
   "outputs": [],
   "source": [
    "import pandas as pd\n",
    "import matplotlib.pyplot as plt\n",
    "%matplotlib inline"
   ]
  },
  {
   "cell_type": "markdown",
   "metadata": {},
   "source": [
    "### Read data\n",
    "\n",
    "The sinking of the RMS Titanic is one of the most infamous shipwrecks in history.  On April 15, 1912, during her maiden voyage, the Titanic sank after colliding with an iceberg, killing 1502 out of 2224 passengers and crew. This sensational tragedy shocked the international community and led to better safety regulations for ships.\n",
    "\n",
    "One of the reasons that the shipwreck led to such loss of life was that there were not enough lifeboats for the passengers and crew. Although there was some element of luck involved in surviving the sinking, some groups of people were more likely to survive than others, such as women, children, and the upper-class.\n",
    "\n",
    "We load the data in using Pandas and create a Dataframe called `titanic`."
   ]
  },
  {
   "cell_type": "code",
   "execution_count": null,
   "metadata": {},
   "outputs": [],
   "source": [
    "# local\n",
    "titanic = pd.read_csv('data/titanic.csv')"
   ]
  },
  {
   "cell_type": "markdown",
   "metadata": {},
   "source": [
    "### Help\n",
    "\n",
    "Jupyter provides a **magic** command to look at the documentation of a function by adding a question mark."
   ]
  },
  {
   "cell_type": "code",
   "execution_count": null,
   "metadata": {},
   "outputs": [],
   "source": [
    "pd.read_csv?"
   ]
  },
  {
   "cell_type": "markdown",
   "metadata": {},
   "source": [
    "### Get first n rows"
   ]
  },
  {
   "cell_type": "code",
   "execution_count": null,
   "metadata": {
    "scrolled": true
   },
   "outputs": [],
   "source": [
    "titanic.head()"
   ]
  },
  {
   "cell_type": "markdown",
   "metadata": {},
   "source": [
    "### Dataframe dimensions\n",
    "\n",
    "Get the number of rows and columns. `(rows, columns)`"
   ]
  },
  {
   "cell_type": "code",
   "execution_count": null,
   "metadata": {},
   "outputs": [],
   "source": [
    "titanic.shape"
   ]
  },
  {
   "cell_type": "markdown",
   "metadata": {},
   "source": [
    "### Index\n",
    "\n",
    "The index is set to [0, 1, 2...nrows] by default if you don't specify it."
   ]
  },
  {
   "cell_type": "code",
   "execution_count": null,
   "metadata": {},
   "outputs": [],
   "source": [
    "titanic.index"
   ]
  },
  {
   "cell_type": "markdown",
   "metadata": {},
   "source": [
    "Let's consult pd to learn more about indices."
   ]
  },
  {
   "cell_type": "code",
   "execution_count": null,
   "metadata": {},
   "outputs": [],
   "source": [
    "titanic.set_index?"
   ]
  },
  {
   "cell_type": "code",
   "execution_count": null,
   "metadata": {},
   "outputs": [],
   "source": [
    "titanic.reset_index?"
   ]
  },
  {
   "cell_type": "markdown",
   "metadata": {},
   "source": [
    "### Columns"
   ]
  },
  {
   "cell_type": "code",
   "execution_count": null,
   "metadata": {},
   "outputs": [],
   "source": [
    "titanic.columns"
   ]
  },
  {
   "cell_type": "markdown",
   "metadata": {},
   "source": [
    "### Dataframe information\n",
    "\n",
    "Show some general information about your dataframe like the column names, the type, the number of non-missing values as well as the memory usage. Pandas Dataframes are loaded entirely into memory."
   ]
  },
  {
   "cell_type": "code",
   "execution_count": null,
   "metadata": {},
   "outputs": [],
   "source": [
    "titanic.info()"
   ]
  },
  {
   "cell_type": "markdown",
   "metadata": {},
   "source": [
    "### Values"
   ]
  },
  {
   "cell_type": "code",
   "execution_count": null,
   "metadata": {},
   "outputs": [],
   "source": [
    "titanic.values"
   ]
  },
  {
   "cell_type": "markdown",
   "metadata": {},
   "source": [
    "### Summary statistics for numeric columns\n",
    "\n",
    "By default `describe` will include only numeric columns. By setting `include='all'` it also shows all types."
   ]
  },
  {
   "cell_type": "code",
   "execution_count": null,
   "metadata": {
    "scrolled": true
   },
   "outputs": [],
   "source": [
    "titanic.describe(include='all')"
   ]
  },
  {
   "cell_type": "markdown",
   "metadata": {},
   "source": [
    "# $\\Omega$ Selecting Data"
   ]
  },
  {
   "cell_type": "markdown",
   "metadata": {},
   "source": [
    "### Select column"
   ]
  },
  {
   "cell_type": "code",
   "execution_count": null,
   "metadata": {
    "scrolled": true
   },
   "outputs": [],
   "source": [
    "titanic['name']"
   ]
  },
  {
   "cell_type": "markdown",
   "metadata": {},
   "source": [
    "### Select multiple columns"
   ]
  },
  {
   "cell_type": "code",
   "execution_count": null,
   "metadata": {
    "scrolled": true
   },
   "outputs": [],
   "source": [
    "titanic[['name', 'fare']]"
   ]
  },
  {
   "cell_type": "markdown",
   "metadata": {},
   "source": [
    "### Select rows and columns by name\n",
    "\n",
    "Use `loc` to slice your data. The first parameter is the names of the indices (this can be a range) and the second is a column or a list of columns."
   ]
  },
  {
   "cell_type": "code",
   "execution_count": null,
   "metadata": {
    "scrolled": false
   },
   "outputs": [],
   "source": [
    "titanic.loc[10:20, ['name', 'fare']]"
   ]
  },
  {
   "cell_type": "markdown",
   "metadata": {},
   "source": [
    "### Select rows and columns by range of indices\n",
    "\n",
    "The difference with `iloc` is instead of using the **names** of the indices or columns, it uses the **integer positions**. For example instead selecting the 'age' column, we can select the column in position 4."
   ]
  },
  {
   "cell_type": "code",
   "execution_count": null,
   "metadata": {
    "scrolled": true
   },
   "outputs": [],
   "source": [
    "titanic.iloc[10:20, 0:3]"
   ]
  },
  {
   "cell_type": "markdown",
   "metadata": {},
   "source": [
    "### Select rows based on condition (filter)"
   ]
  },
  {
   "cell_type": "code",
   "execution_count": null,
   "metadata": {},
   "outputs": [],
   "source": [
    "titanic[titanic['fare'] > 100]"
   ]
  },
  {
   "cell_type": "markdown",
   "metadata": {},
   "source": [
    "## $\\Delta$ Exercise 1 - Toronto Subway Delay Data\n",
    "\n",
    "https://www.toronto.ca/city-government/data-research-maps/open-data/open-data-catalogue/#917dd033-1fe5-4ba8-04ca-f683eec89761\n",
    "\n",
    "**Deliverables:**\n",
    "1. Read the data `subway.csv` and set it to the variable `subway`\n",
    "2. Show the last 10 rows (hint: use `tail`)\n",
    "3. Show the summary statistics\n",
    "4. Select columns \"Date\" and \"Time\" for rows 100 to 200"
   ]
  },
  {
   "cell_type": "code",
   "execution_count": null,
   "metadata": {},
   "outputs": [],
   "source": [
    "########################\n",
    "# Your Code Below\n",
    "########################"
   ]
  },
  {
   "cell_type": "markdown",
   "metadata": {},
   "source": [
    "# $\\Omega$ Transforming Data"
   ]
  },
  {
   "cell_type": "markdown",
   "metadata": {},
   "source": [
    "### Calculate ticket price in today's dollar\n",
    "According to the Bureau of Labor Statistics consumer price index, prices in 2018 are 2,669.00% higher than prices in 1909. The dollar experienced an average inflation rate of 3.09% per year."
   ]
  },
  {
   "cell_type": "code",
   "execution_count": null,
   "metadata": {
    "scrolled": true
   },
   "outputs": [],
   "source": [
    "titanic['fare'] * 26.69"
   ]
  },
  {
   "cell_type": "code",
   "execution_count": null,
   "metadata": {
    "scrolled": true
   },
   "outputs": [],
   "source": [
    "(titanic['fare'] * 26.69).round(2)"
   ]
  },
  {
   "cell_type": "markdown",
   "metadata": {},
   "source": [
    "### Add new column"
   ]
  },
  {
   "cell_type": "code",
   "execution_count": null,
   "metadata": {},
   "outputs": [],
   "source": [
    "titanic['fare_2018'] = (titanic['fare'] * 26.69).round(2)"
   ]
  },
  {
   "cell_type": "markdown",
   "metadata": {},
   "source": [
    "### Count missing values"
   ]
  },
  {
   "cell_type": "code",
   "execution_count": null,
   "metadata": {},
   "outputs": [],
   "source": [
    "titanic.isnull().sum()"
   ]
  },
  {
   "cell_type": "markdown",
   "metadata": {},
   "source": [
    "### Calculate mean"
   ]
  },
  {
   "cell_type": "code",
   "execution_count": null,
   "metadata": {},
   "outputs": [],
   "source": [
    "titanic['age'].mean()"
   ]
  },
  {
   "cell_type": "code",
   "execution_count": null,
   "metadata": {},
   "outputs": [],
   "source": [
    "mean_age = titanic['age'].mean()"
   ]
  },
  {
   "cell_type": "markdown",
   "metadata": {},
   "source": [
    "### Fill missing values"
   ]
  },
  {
   "cell_type": "code",
   "execution_count": null,
   "metadata": {},
   "outputs": [],
   "source": [
    "titanic['age'] = titanic['age'].fillna(mean_age).round(0).astype(int)"
   ]
  },
  {
   "cell_type": "markdown",
   "metadata": {},
   "source": [
    "### Count categorical data"
   ]
  },
  {
   "cell_type": "code",
   "execution_count": null,
   "metadata": {
    "scrolled": true
   },
   "outputs": [],
   "source": [
    "titanic['gender'].value_counts()"
   ]
  },
  {
   "cell_type": "markdown",
   "metadata": {},
   "source": [
    "### Groupby & aggregate"
   ]
  },
  {
   "cell_type": "code",
   "execution_count": null,
   "metadata": {},
   "outputs": [],
   "source": [
    "titanic.groupby('gender')['survived'].sum()"
   ]
  },
  {
   "cell_type": "code",
   "execution_count": null,
   "metadata": {},
   "outputs": [],
   "source": [
    "titanic['is_child'] = titanic['age'] < 18"
   ]
  },
  {
   "cell_type": "code",
   "execution_count": null,
   "metadata": {
    "scrolled": true
   },
   "outputs": [],
   "source": [
    "titanic.groupby('is_child')['survived'].sum()"
   ]
  },
  {
   "cell_type": "markdown",
   "metadata": {},
   "source": [
    "### Save new dataframe as csv"
   ]
  },
  {
   "cell_type": "code",
   "execution_count": null,
   "metadata": {},
   "outputs": [],
   "source": [
    "# titanic.to_csv('data/new_titanic.csv')"
   ]
  },
  {
   "cell_type": "markdown",
   "metadata": {},
   "source": [
    "## $\\Delta$ Exercise 2 - Subway Dataset\n",
    "\n",
    "Some helpful functions:\n",
    "- `pd.to_datetime`\n",
    "- `.dt.year`\n",
    "- `.dt.month`\n",
    "- `.dt.dayofweek`\n",
    "- `.dt.hour`\n",
    "\n",
    "**Deliverables:**\n",
    "1. Convert `Date` to a datetime object and replace the old one\n",
    "2. Create a new column called `year`\n",
    "3. Create a new column called `month`\n",
    "4. Create a new column called `dayofweek`\n",
    "5. Create a new column called `label` with value `0` if the `Min Delay` is less than 5 and `1` if it's greater than or equal to 5\n",
    "6. Print the type of every column\n",
    "7. Print new summary statistics"
   ]
  },
  {
   "cell_type": "code",
   "execution_count": null,
   "metadata": {},
   "outputs": [],
   "source": [
    "########################\n",
    "# Your Code Below\n",
    "########################"
   ]
  },
  {
   "cell_type": "markdown",
   "metadata": {},
   "source": [
    "# $\\Omega$ Data Visualization\n",
    "https://pandas.pydata.org/pandas-docs/stable/visualization.html"
   ]
  },
  {
   "cell_type": "markdown",
   "metadata": {},
   "source": [
    "### Bar plot"
   ]
  },
  {
   "cell_type": "code",
   "execution_count": null,
   "metadata": {
    "scrolled": true
   },
   "outputs": [],
   "source": [
    "titanic['survived'].value_counts().plot(kind='bar')"
   ]
  },
  {
   "cell_type": "markdown",
   "metadata": {},
   "source": [
    "### Pie plot"
   ]
  },
  {
   "cell_type": "code",
   "execution_count": null,
   "metadata": {},
   "outputs": [],
   "source": [
    "titanic['survived'].value_counts().plot(kind='pie')"
   ]
  },
  {
   "cell_type": "markdown",
   "metadata": {},
   "source": [
    "### Set figure size"
   ]
  },
  {
   "cell_type": "code",
   "execution_count": null,
   "metadata": {},
   "outputs": [],
   "source": [
    "titanic['survived'].value_counts().plot(kind='pie', figsize=(5, 5))"
   ]
  },
  {
   "cell_type": "markdown",
   "metadata": {},
   "source": [
    "### Set plot style"
   ]
  },
  {
   "cell_type": "code",
   "execution_count": null,
   "metadata": {},
   "outputs": [],
   "source": [
    "plt.style.use('ggplot')"
   ]
  },
  {
   "cell_type": "code",
   "execution_count": null,
   "metadata": {},
   "outputs": [],
   "source": [
    "titanic['survived'].value_counts().plot(kind='pie', figsize=(5, 5))"
   ]
  },
  {
   "cell_type": "markdown",
   "metadata": {},
   "source": [
    "### Histogram"
   ]
  },
  {
   "cell_type": "code",
   "execution_count": null,
   "metadata": {},
   "outputs": [],
   "source": [
    "titanic['age'].plot(kind='hist')"
   ]
  },
  {
   "cell_type": "markdown",
   "metadata": {},
   "source": [
    "### Set histogram bin size"
   ]
  },
  {
   "cell_type": "code",
   "execution_count": null,
   "metadata": {},
   "outputs": [],
   "source": [
    "titanic['age'].plot(kind='hist', bins=100)"
   ]
  },
  {
   "cell_type": "markdown",
   "metadata": {},
   "source": [
    "### Boxplot"
   ]
  },
  {
   "cell_type": "code",
   "execution_count": null,
   "metadata": {},
   "outputs": [],
   "source": [
    "titanic['fare'].plot(kind='box')"
   ]
  },
  {
   "cell_type": "markdown",
   "metadata": {},
   "source": [
    "### Scatter plot"
   ]
  },
  {
   "cell_type": "code",
   "execution_count": null,
   "metadata": {
    "scrolled": true
   },
   "outputs": [],
   "source": [
    "titanic[['fare', 'age']].plot(x='age', y='fare', kind='scatter')"
   ]
  },
  {
   "cell_type": "markdown",
   "metadata": {},
   "source": [
    "### Transform then plot"
   ]
  },
  {
   "cell_type": "code",
   "execution_count": null,
   "metadata": {},
   "outputs": [],
   "source": [
    "titanic.groupby('gender')['survived'].sum().plot(kind='bar')"
   ]
  },
  {
   "cell_type": "markdown",
   "metadata": {},
   "source": [
    "## $\\Delta$ Exercise 3 - Subway Dataset\n",
    "\n",
    "**Deliverables:**\n",
    "1. Create a bar plot of `label`\n",
    "2. Create a histogram of `Min Delay`\n",
    "3. Create a boxplot of `Min Delay`\n",
    "4. Plot the 10 most frequent `Codes`\n",
    "5. Plot the 10 `Codes` that have the most delays over 5 minutes\n",
    "\n",
    "**Bonus:**\n",
    "- Explore the dataset and see if you can come up with your own interesting analysis or plots"
   ]
  },
  {
   "cell_type": "code",
   "execution_count": null,
   "metadata": {},
   "outputs": [],
   "source": [
    "########################\n",
    "# Your Code Below\n",
    "########################"
   ]
  },
  {
   "cell_type": "markdown",
   "metadata": {},
   "source": [
    "# $\\Omega$ Machine Learning\n",
    "\n",
    "http://scikit-learn.org/stable/user_guide.html\n",
    "\n",
    "https://docs.google.com/presentation/d/1HDCbQ7-Abh3wi0L4Dg4i8V1orovsatKX_LgeQ85t_HY/edit#slide=id.p"
   ]
  },
  {
   "cell_type": "markdown",
   "metadata": {},
   "source": [
    "- `pip install scikit-plot`\n",
    "- `pip install mlxtend`"
   ]
  },
  {
   "cell_type": "code",
   "execution_count": null,
   "metadata": {},
   "outputs": [],
   "source": [
    "!pip install scikit-plot\n",
    "!pip install mlxtend"
   ]
  },
  {
   "cell_type": "code",
   "execution_count": 24,
   "metadata": {},
   "outputs": [
    {
     "name": "stderr",
     "output_type": "stream",
     "text": [
      "/anaconda3/lib/python3.7/site-packages/sklearn/ensemble/weight_boosting.py:29: DeprecationWarning: numpy.core.umath_tests is an internal NumPy module and should not be imported. It will be removed in a future NumPy release.\n",
      "  from numpy.core.umath_tests import inner1d\n"
     ]
    }
   ],
   "source": [
    "from sklearn.datasets import make_blobs\n",
    "from sklearn.tree import DecisionTreeClassifier\n",
    "from sklearn.ensemble import RandomForestClassifier\n",
    "from sklearn.model_selection import train_test_split\n",
    "from sklearn.metrics import classification_report\n",
    "from sklearn.metrics import confusion_matrix\n",
    "\n",
    "from mlxtend.plotting import category_scatter\n",
    "from mlxtend.plotting import plot_decision_regions\n",
    "\n",
    "import scikitplot as skplt"
   ]
  },
  {
   "cell_type": "code",
   "execution_count": null,
   "metadata": {},
   "outputs": [],
   "source": [
    "X, y = make_blobs(centers=[[1, 1], [3, 3]], random_state=1)\n",
    "\n",
    "df = pd.DataFrame(X, columns=['feature1', 'feature2']).assign(label=y)\n",
    "\n",
    "df.head()"
   ]
  },
  {
   "cell_type": "code",
   "execution_count": null,
   "metadata": {},
   "outputs": [],
   "source": [
    "category_scatter(x='feature1', y='feature2', label_col='label', data=df);"
   ]
  },
  {
   "cell_type": "code",
   "execution_count": null,
   "metadata": {
    "scrolled": true
   },
   "outputs": [],
   "source": [
    "d_tree = DecisionTreeClassifier(max_depth=1)\n",
    "d_tree.fit(X, y)\n",
    "\n",
    "plot_decision_regions(X, y, clf=d_tree);"
   ]
  },
  {
   "cell_type": "markdown",
   "metadata": {},
   "source": [
    "### Titanic "
   ]
  },
  {
   "cell_type": "code",
   "execution_count": null,
   "metadata": {
    "scrolled": true
   },
   "outputs": [],
   "source": [
    "titanic.head()"
   ]
  },
  {
   "cell_type": "markdown",
   "metadata": {},
   "source": [
    "### Selecting features"
   ]
  },
  {
   "cell_type": "code",
   "execution_count": null,
   "metadata": {
    "scrolled": true
   },
   "outputs": [],
   "source": [
    "features = ['gender', 'fare', 'age', 'is_child']\n",
    "\n",
    "titanic[features]"
   ]
  },
  {
   "cell_type": "markdown",
   "metadata": {},
   "source": [
    "### One hot encoding"
   ]
  },
  {
   "cell_type": "code",
   "execution_count": null,
   "metadata": {},
   "outputs": [],
   "source": [
    "titanic['gender']"
   ]
  },
  {
   "cell_type": "code",
   "execution_count": null,
   "metadata": {
    "scrolled": true
   },
   "outputs": [],
   "source": [
    "pd.get_dummies(titanic['gender'])"
   ]
  },
  {
   "cell_type": "markdown",
   "metadata": {},
   "source": [
    "### Make feature dataset"
   ]
  },
  {
   "cell_type": "code",
   "execution_count": null,
   "metadata": {},
   "outputs": [],
   "source": [
    "X = pd.get_dummies(titanic[features], drop_first=True)\n",
    "X.head()"
   ]
  },
  {
   "cell_type": "markdown",
   "metadata": {},
   "source": [
    "### Make label"
   ]
  },
  {
   "cell_type": "code",
   "execution_count": null,
   "metadata": {},
   "outputs": [],
   "source": [
    "y = titanic['survived']\n",
    "y.head()"
   ]
  },
  {
   "cell_type": "markdown",
   "metadata": {},
   "source": [
    "### Make validation dataset"
   ]
  },
  {
   "cell_type": "code",
   "execution_count": null,
   "metadata": {},
   "outputs": [],
   "source": [
    "X_train, X_test, y_train, y_test = train_test_split(X, y, test_size=0.33, random_state=42)"
   ]
  },
  {
   "cell_type": "markdown",
   "metadata": {},
   "source": [
    "### Build/train model"
   ]
  },
  {
   "cell_type": "code",
   "execution_count": null,
   "metadata": {},
   "outputs": [],
   "source": [
    "model = DecisionTreeClassifier()\n",
    "\n",
    "model.fit(X_train, y_train)"
   ]
  },
  {
   "cell_type": "markdown",
   "metadata": {},
   "source": [
    "### Model accuracy"
   ]
  },
  {
   "cell_type": "code",
   "execution_count": null,
   "metadata": {},
   "outputs": [],
   "source": [
    "model.score(X_test, y_test)"
   ]
  },
  {
   "cell_type": "markdown",
   "metadata": {},
   "source": [
    "### Model prediction"
   ]
  },
  {
   "cell_type": "code",
   "execution_count": null,
   "metadata": {},
   "outputs": [],
   "source": [
    "y_pred = model.predict(X_test)"
   ]
  },
  {
   "cell_type": "markdown",
   "metadata": {},
   "source": [
    "### Model evaluation"
   ]
  },
  {
   "cell_type": "code",
   "execution_count": null,
   "metadata": {},
   "outputs": [],
   "source": [
    "y_pred[:10]"
   ]
  },
  {
   "cell_type": "code",
   "execution_count": null,
   "metadata": {},
   "outputs": [],
   "source": [
    "y_test[:10]"
   ]
  },
  {
   "cell_type": "code",
   "execution_count": null,
   "metadata": {},
   "outputs": [],
   "source": [
    "confusion_matrix(y_test, y_pred)"
   ]
  },
  {
   "cell_type": "code",
   "execution_count": null,
   "metadata": {
    "scrolled": true
   },
   "outputs": [],
   "source": [
    "skplt.metrics.plot_confusion_matrix(y_test, y_pred)"
   ]
  },
  {
   "cell_type": "code",
   "execution_count": null,
   "metadata": {},
   "outputs": [],
   "source": [
    "print(classification_report(y_test, y_pred))"
   ]
  },
  {
   "cell_type": "code",
   "execution_count": null,
   "metadata": {},
   "outputs": [],
   "source": [
    "skplt.estimators.plot_feature_importances(model, feature_names=X.columns)"
   ]
  },
  {
   "cell_type": "markdown",
   "metadata": {},
   "source": [
    "## $\\Delta$ Exercise 4 - Subway Dataset\n",
    "\n",
    "**Deliverables:**\n",
    "1. Create a list of features: Day, Code, Station, Bound, Line, month, year\n",
    "2. One hot encode the categorical features\n",
    "3. Create the feature set called `X`\n",
    "4. Create the target label `y` (delays over 5 minuties)\n",
    "5. Train and evaluate a model\n",
    "6. Randomly train 10 models and average their results"
   ]
  },
  {
   "cell_type": "markdown",
   "metadata": {},
   "source": [
    "# More Productive ML"
   ]
  },
  {
   "cell_type": "markdown",
   "metadata": {},
   "source": [
    "## Cross Validation"
   ]
  },
  {
   "cell_type": "code",
   "execution_count": null,
   "metadata": {},
   "outputs": [],
   "source": [
    "from sklearn.model_selection import cross_val_score\n",
    "cv_model = RandomForestClassifier(n_estimators=25)\n",
    "scores = cross_val_score(cv_model, X, y, cv=10)\n",
    "print(\"Accuracy: %0.2f (+/- %0.2f)\" % (scores.mean(), scores.std() * 2))"
   ]
  },
  {
   "cell_type": "markdown",
   "metadata": {},
   "source": [
    "### Scoring Functions"
   ]
  },
  {
   "cell_type": "code",
   "execution_count": null,
   "metadata": {},
   "outputs": [],
   "source": [
    "from sklearn import metrics\n",
    "scores = cross_val_score(cv_model, X, y, cv=10, scoring='f1_macro')\n",
    "print(\"Accuracy: %0.2f (+/- %0.2f)\" % (scores.mean(), scores.std() * 2))"
   ]
  },
  {
   "cell_type": "markdown",
   "metadata": {},
   "source": [
    "More information here:\n",
    "\n",
    "https://scikit-learn.org/stable/modules/model_evaluation.html#scoring-parameter\n",
    "\n",
    "https://scikit-learn.org/stable/modules/cross_validation.html"
   ]
  },
  {
   "cell_type": "markdown",
   "metadata": {},
   "source": [
    "## Random Forest: an ensemble model"
   ]
  },
  {
   "cell_type": "code",
   "execution_count": null,
   "metadata": {},
   "outputs": [],
   "source": [
    "rf_model = RandomForestClassifier(n_estimators=25)\n",
    "rf_model.fit(X_train, y_train)\n",
    "rf_model.score(X_test, y_test)"
   ]
  },
  {
   "cell_type": "code",
   "execution_count": null,
   "metadata": {},
   "outputs": [],
   "source": [
    "y_pred = rf_model.predict(X_test)\n",
    "\n",
    "print(classification_report(y_test, y_pred))"
   ]
  },
  {
   "cell_type": "markdown",
   "metadata": {},
   "source": [
    "More on ensemble models:\n",
    "\n",
    "https://scikit-learn.org/stable/modules/ensemble.html"
   ]
  },
  {
   "cell_type": "markdown",
   "metadata": {},
   "source": [
    "### $\\Delta$ Quick Test\n",
    "\n",
    "How does adding n_estimators influence model.score()?"
   ]
  },
  {
   "cell_type": "markdown",
   "metadata": {},
   "source": [
    "## Grid Search"
   ]
  },
  {
   "cell_type": "code",
   "execution_count": null,
   "metadata": {},
   "outputs": [],
   "source": [
    "from sklearn.model_selection import GridSearchCV\n",
    "from time import time\n",
    "import numpy as np\n",
    "\n",
    "# Utility function to report best scores\n",
    "def report(results, n_top=3):\n",
    "    for i in range(1, n_top + 1):\n",
    "        candidates = np.flatnonzero(results['rank_test_score'] == i)\n",
    "        for candidate in candidates:\n",
    "            print(\"Model with rank: {0}\".format(i))\n",
    "            print(\"Mean validation score: {0:.3f} (std: {1:.3f})\".format(\n",
    "                  results['mean_test_score'][candidate],\n",
    "                  results['std_test_score'][candidate]))\n",
    "            print(\"Parameters: {0}\".format(results['params'][candidate]))\n",
    "            print(\"\")"
   ]
  },
  {
   "cell_type": "code",
   "execution_count": null,
   "metadata": {},
   "outputs": [],
   "source": [
    "gs_model = RandomForestClassifier(n_estimators=25)\n",
    "\n",
    "# use a full grid over all parameters\n",
    "param_grid = {\"max_depth\": [3, None],\n",
    "              \"max_features\": [1, 4],\n",
    "              \"min_samples_split\": [2, 3, 10],\n",
    "              \"bootstrap\": [True, False],\n",
    "              \"criterion\": [\"gini\", \"entropy\"]}\n",
    "\n",
    "# run grid search\n",
    "grid_search = GridSearchCV(gs_model, param_grid=param_grid, cv=5)\n",
    "start = time()\n",
    "grid_search.fit(X, y)\n",
    "\n",
    "print(\"GridSearchCV took %.2f seconds for %d candidate parameter settings.\"\n",
    "      % (time() - start, len(grid_search.cv_results_['params'])))\n",
    "report(grid_search.cv_results_)"
   ]
  },
  {
   "cell_type": "markdown",
   "metadata": {},
   "source": [
    "## $\\Delta$ Exercise 5 - Subway Dataset\n",
    "\n",
    "**Deliverable:**\n",
    "1. Create an ensemble model using pipeline and grid search that would beat your last decision tree"
   ]
  },
  {
   "cell_type": "code",
   "execution_count": null,
   "metadata": {},
   "outputs": [],
   "source": [
    "########################\n",
    "# Your Code Below\n",
    "########################"
   ]
  },
  {
   "cell_type": "markdown",
   "metadata": {},
   "source": [
    "# Text Analytics\n",
    "\n",
    "https://www.kaggle.com/yufengdev/bbc-text-categorization/notebook"
   ]
  },
  {
   "cell_type": "code",
   "execution_count": 4,
   "metadata": {},
   "outputs": [],
   "source": [
    "bbc_articles = pd.read_csv(\"data/bbc-text.csv\")\n",
    "# fake_news_data = pd.read_csv(\"data/fake_news_data.csv\")"
   ]
  },
  {
   "cell_type": "code",
   "execution_count": 5,
   "metadata": {},
   "outputs": [
    {
     "data": {
      "text/html": [
       "<div>\n",
       "<style scoped>\n",
       "    .dataframe tbody tr th:only-of-type {\n",
       "        vertical-align: middle;\n",
       "    }\n",
       "\n",
       "    .dataframe tbody tr th {\n",
       "        vertical-align: top;\n",
       "    }\n",
       "\n",
       "    .dataframe thead th {\n",
       "        text-align: right;\n",
       "    }\n",
       "</style>\n",
       "<table border=\"1\" class=\"dataframe\">\n",
       "  <thead>\n",
       "    <tr style=\"text-align: right;\">\n",
       "      <th></th>\n",
       "      <th>category</th>\n",
       "      <th>text</th>\n",
       "    </tr>\n",
       "  </thead>\n",
       "  <tbody>\n",
       "    <tr>\n",
       "      <th>0</th>\n",
       "      <td>tech</td>\n",
       "      <td>tv future in the hands of viewers with home th...</td>\n",
       "    </tr>\n",
       "    <tr>\n",
       "      <th>1</th>\n",
       "      <td>business</td>\n",
       "      <td>worldcom boss  left books alone  former worldc...</td>\n",
       "    </tr>\n",
       "    <tr>\n",
       "      <th>2</th>\n",
       "      <td>sport</td>\n",
       "      <td>tigers wary of farrell  gamble  leicester say ...</td>\n",
       "    </tr>\n",
       "    <tr>\n",
       "      <th>3</th>\n",
       "      <td>sport</td>\n",
       "      <td>yeading face newcastle in fa cup premiership s...</td>\n",
       "    </tr>\n",
       "    <tr>\n",
       "      <th>4</th>\n",
       "      <td>entertainment</td>\n",
       "      <td>ocean s twelve raids box office ocean s twelve...</td>\n",
       "    </tr>\n",
       "  </tbody>\n",
       "</table>\n",
       "</div>"
      ],
      "text/plain": [
       "        category                                               text\n",
       "0           tech  tv future in the hands of viewers with home th...\n",
       "1       business  worldcom boss  left books alone  former worldc...\n",
       "2          sport  tigers wary of farrell  gamble  leicester say ...\n",
       "3          sport  yeading face newcastle in fa cup premiership s...\n",
       "4  entertainment  ocean s twelve raids box office ocean s twelve..."
      ]
     },
     "execution_count": 5,
     "metadata": {},
     "output_type": "execute_result"
    }
   ],
   "source": [
    "bbc_articles.head()"
   ]
  },
  {
   "cell_type": "code",
   "execution_count": 6,
   "metadata": {},
   "outputs": [
    {
     "data": {
      "text/plain": [
       "sport            511\n",
       "business         510\n",
       "politics         417\n",
       "tech             401\n",
       "entertainment    386\n",
       "Name: category, dtype: int64"
      ]
     },
     "execution_count": 6,
     "metadata": {},
     "output_type": "execute_result"
    }
   ],
   "source": [
    "bbc_articles['category'].value_counts()"
   ]
  },
  {
   "cell_type": "markdown",
   "metadata": {},
   "source": [
    "### Tokenization for multiple purposes"
   ]
  },
  {
   "cell_type": "code",
   "execution_count": 8,
   "metadata": {},
   "outputs": [],
   "source": [
    "from sklearn.feature_extraction.stop_words import ENGLISH_STOP_WORDS\n",
    "from sklearn.metrics import accuracy_score\n",
    "from nltk.corpus import stopwords"
   ]
  },
  {
   "cell_type": "code",
   "execution_count": 11,
   "metadata": {},
   "outputs": [],
   "source": [
    "import nltk\n",
    "from nltk.corpus import stopwords\n",
    "import string\n",
    "\n",
    "# Fill any blank fields\n",
    "bbc_articles.category.fillna(\"\", inplace=True)\n",
    "# fake_news_data.category.fillna(\"\", inplace=True)\n",
    "\n",
    "all_text = bbc_articles.text\n",
    "\n",
    "words = nltk.word_tokenize(\" \".join(all_text.tolist()))\n",
    "\n",
    "nltk_stopwords = stopwords.words('english') \n",
    "unigrams = [i for i in words if i not in nltk_stopwords and i.isalpha() and len(i) > 2]"
   ]
  },
  {
   "cell_type": "markdown",
   "metadata": {},
   "source": [
    "NLTK is not always the best choice though!\n",
    "\n",
    "You can try Spacy next time."
   ]
  },
  {
   "cell_type": "code",
   "execution_count": 12,
   "metadata": {},
   "outputs": [
    {
     "data": {
      "text/plain": [
       "458124"
      ]
     },
     "execution_count": 12,
     "metadata": {},
     "output_type": "execute_result"
    }
   ],
   "source": [
    "len(unigrams)"
   ]
  },
  {
   "cell_type": "markdown",
   "metadata": {},
   "source": [
    "### Wordcloud on unigrams"
   ]
  },
  {
   "cell_type": "code",
   "execution_count": null,
   "metadata": {},
   "outputs": [],
   "source": [
    "# !pip install wordcloud"
   ]
  },
  {
   "cell_type": "code",
   "execution_count": 13,
   "metadata": {},
   "outputs": [],
   "source": [
    "from wordcloud import WordCloud, STOPWORDS\n",
    "\n",
    "wordcloud2 = WordCloud(\n",
    "                stopwords=STOPWORDS,\n",
    "                background_color='white',\n",
    "                width=2000,\n",
    "                height=1000\n",
    "            ).generate(\" \".join(unigrams))"
   ]
  },
  {
   "cell_type": "code",
   "execution_count": 14,
   "metadata": {},
   "outputs": [
    {
     "data": {
      "image/png": "[encoded data removed]",
      "text/plain": [
       "<Figure size 432x288 with 1 Axes>"
      ]
     },
     "metadata": {
      "needs_background": "light"
     },
     "output_type": "display_data"
    }
   ],
   "source": [
    "plt.imshow(wordcloud2, interpolation=\"bilinear\", aspect='auto')\n",
    "plt.axis('off')\n",
    "plt.show()"
   ]
  },
  {
   "cell_type": "markdown",
   "metadata": {},
   "source": [
    "### Can we learn more from bigrams and trigrams?"
   ]
  },
  {
   "cell_type": "code",
   "execution_count": 15,
   "metadata": {},
   "outputs": [],
   "source": [
    "bigrams = nltk.bigrams(unigrams)\n",
    "trigrams = nltk.trigrams(unigrams)\n",
    "\n",
    "\n",
    "# look at the most common. \n",
    "\n",
    "from collections import Counter\n",
    "\n",
    "bigrams_counter = Counter(bigrams)\n",
    "trigrams_counter = Counter(trigrams)"
   ]
  },
  {
   "cell_type": "code",
   "execution_count": 16,
   "metadata": {},
   "outputs": [
    {
     "name": "stdout",
     "output_type": "stream",
     "text": [
      "320608\n",
      "\n",
      "\n",
      "(('last', 'year'), 454)\n",
      "(('told', 'bbc'), 362)\n",
      "(('prime', 'minister'), 312)\n",
      "(('chief', 'executive'), 198)\n",
      "(('said', 'would'), 198)\n",
      "(('tony', 'blair'), 186)\n",
      "(('last', 'week'), 184)\n",
      "(('bbc', 'news'), 178)\n",
      "(('general', 'election'), 172)\n",
      "(('new', 'york'), 167)\n",
      "(('six', 'nations'), 162)\n",
      "(('number', 'one'), 141)\n",
      "(('first', 'time'), 140)\n",
      "(('michael', 'howard'), 130)\n",
      "(('years', 'ago'), 128)\n",
      "(('human', 'rights'), 118)\n",
      "(('next', 'year'), 116)\n",
      "(('gordon', 'brown'), 113)\n",
      "(('bbc', 'radio'), 112)\n",
      "(('also', 'said'), 106)\n"
     ]
    }
   ],
   "source": [
    "print(len(bigrams_counter))\n",
    "print('\\n')\n",
    "for bigram in bigrams_counter.most_common(20):\n",
    "    print(bigram)"
   ]
  },
  {
   "cell_type": "code",
   "execution_count": 17,
   "metadata": {},
   "outputs": [
    {
     "name": "stdout",
     "output_type": "stream",
     "text": [
      "401432\n",
      "\n",
      "\n",
      "(('told', 'bbc', 'news'), 147)\n",
      "(('bbc', 'news', 'website'), 97)\n",
      "(('told', 'bbc', 'radio'), 76)\n",
      "(('leader', 'michael', 'howard'), 58)\n",
      "(('million', 'dollar', 'baby'), 53)\n",
      "(('radio', 'today', 'programme'), 49)\n",
      "(('told', 'bbc', 'sport'), 48)\n",
      "(('bbc', 'radio', 'today'), 47)\n",
      "(('tory', 'leader', 'michael'), 41)\n",
      "(('next', 'general', 'election'), 39)\n",
      "(('chancellor', 'gordon', 'brown'), 33)\n",
      "(('leader', 'charles', 'kennedy'), 32)\n",
      "(('prime', 'minister', 'tony'), 32)\n",
      "(('minister', 'tony', 'blair'), 32)\n",
      "(('two', 'years', 'ago'), 28)\n",
      "(('world', 'number', 'one'), 27)\n",
      "(('coach', 'andy', 'robinson'), 27)\n",
      "(('bbc', 'world', 'service'), 26)\n",
      "(('london', 'stock', 'exchange'), 25)\n",
      "(('deputy', 'prime', 'minister'), 23)\n"
     ]
    }
   ],
   "source": [
    "print(len(trigrams_counter))\n",
    "print('\\n')\n",
    "for trigram in trigrams_counter.most_common(20):\n",
    "    print(trigram)"
   ]
  },
  {
   "cell_type": "markdown",
   "metadata": {},
   "source": [
    "## Pipeline\n",
    "\n",
    "Scikit-learn provides a pipeline utility to help automate machine learning workflows. Pipelines are very common in Machine Learning systems, since there is a lot of data to manipulate and many data transformations to apply. So we will utilize pipeline to train every classifier.\n",
    "\n",
    "https://towardsdatascience.com/multi-label-text-classification-with-scikit-learn-30714b7819c5"
   ]
  },
  {
   "cell_type": "markdown",
   "metadata": {},
   "source": [
    "#### What do we need in order to define a pipeline?"
   ]
  },
  {
   "cell_type": "code",
   "execution_count": 54,
   "metadata": {},
   "outputs": [],
   "source": [
    "from sklearn.feature_extraction.text import CountVectorizer\n",
    "from sklearn.base import TransformerMixin\n",
    "from sklearn.pipeline import Pipeline\n",
    "from sklearn.feature_extraction.stop_words import ENGLISH_STOP_WORDS\n",
    "from nltk.corpus import stopwords\n",
    "from sklearn.feature_extraction.text import TfidfVectorizer\n",
    "from sklearn.svm import LinearSVC\n",
    "\n",
    "import string\n",
    "import re\n",
    "import spacy\n",
    "from spacy.lang.en import English\n",
    "parser = English()\n",
    "\n",
    "from sklearn.metrics import confusion_matrix\n",
    "import seaborn as sns"
   ]
  },
  {
   "cell_type": "code",
   "execution_count": 20,
   "metadata": {},
   "outputs": [],
   "source": [
    "STOPLIST = set(stopwords.words('english') + list(ENGLISH_STOP_WORDS)+ list(STOPWORDS))\n",
    "SYMBOLS = \" \".join(string.punctuation).split(\" \") + [\"-\", \"...\", \"”\", \"”\"]\n",
    "class CleanTextTransformer(TransformerMixin):\n",
    "   def transform(self, X, **transform_params):\n",
    "        return [cleanText(text) for text in X]\n",
    "   def fit(self, X, y=None, **fit_params):\n",
    "        return self\n",
    "def get_params(self, deep=True):\n",
    "        return {}\n",
    "    \n",
    "def cleanText(text):\n",
    "    text = text.strip().replace(\"\\n\", \" \").replace(\"\\r\", \" \")\n",
    "    text = text.lower()\n",
    "    return text\n",
    "def tokenizeText(sample):\n",
    "    tokens = parser(sample)\n",
    "    lemmas = []\n",
    "    for tok in tokens:\n",
    "        lemmas.append(tok.lemma_.lower().strip() if tok.lemma_ != \"-PRON-\" else tok.lower_)\n",
    "    tokens = lemmas\n",
    "    tokens = [tok for tok in tokens if tok not in STOPLIST]\n",
    "    tokens = [tok for tok in tokens if tok not in SYMBOLS]\n",
    "    return tokens"
   ]
  },
  {
   "cell_type": "markdown",
   "metadata": {},
   "source": [
    "##### Alternative cleaning:\n",
    "https://towardsdatascience.com/topic-modelling-in-python-with-nltk-and-gensim-4ef03213cd21"
   ]
  },
  {
   "cell_type": "code",
   "execution_count": 35,
   "metadata": {},
   "outputs": [],
   "source": [
    "count_vect = CountVectorizer(tokenizer=tokenizeText, ngram_range=(1,3))\n",
    "tfidf_vect = TfidfVectorizer(tokenizer=tokenizeText, ngram_range=(1,3))\n",
    "count_clf = LinearSVC()\n",
    "tfidf_clf = LinearSVC()"
   ]
  },
  {
   "cell_type": "markdown",
   "metadata": {},
   "source": [
    "##### How about other classifiers?\n",
    "https://www.kaggle.com/paul92s/linear-svc-classifier"
   ]
  },
  {
   "cell_type": "code",
   "execution_count": 36,
   "metadata": {},
   "outputs": [],
   "source": [
    "count_pipe = Pipeline([\n",
    "    ('cleanText', CleanTextTransformer()),\n",
    "    ('vectorizer', count_vect),\n",
    "    ('clf', count_clf)\n",
    "])\n",
    "\n",
    "tfidf_pipe = Pipeline([\n",
    "    ('cleanText', CleanTextTransformer()),\n",
    "    ('vectorizer', tfidf_vect),\n",
    "    ('clf', tfidf_clf)\n",
    "])"
   ]
  },
  {
   "cell_type": "code",
   "execution_count": 37,
   "metadata": {},
   "outputs": [],
   "source": [
    "X = bbc_articles['text']\n",
    "y = bbc_articles['category']\n",
    "X_train, X_test, y_train, y_test = train_test_split(X, y, test_size=0.33, random_state=2018)"
   ]
  },
  {
   "cell_type": "code",
   "execution_count": 38,
   "metadata": {
    "scrolled": true
   },
   "outputs": [
    {
     "data": {
      "text/plain": [
       "1732    mobiles  not media players yet  mobiles are no...\n",
       "2187    jones files conte lawsuit marion jones has fil...\n",
       "1752    abba reunite for musical premiere the original...\n",
       "847     bbc  should allow more scrutiny  mps have urge...\n",
       "576     robots learn  robotiquette  rules robots are l...\n",
       "2124    tate & lyle boss bags top award tate & lyle s ...\n",
       "1601    castaignede fires laporte warning former franc...\n",
       "782     bollywood draws global stars british actress a...\n",
       "68      microsoft gets the blogging bug software giant...\n",
       "1782    clarke plans migrant point scheme anyone plann...\n",
       "Name: text, dtype: object"
      ]
     },
     "execution_count": 38,
     "metadata": {},
     "output_type": "execute_result"
    }
   ],
   "source": [
    "X_train.sample(10)"
   ]
  },
  {
   "cell_type": "code",
   "execution_count": 49,
   "metadata": {},
   "outputs": [
    {
     "name": "stdout",
     "output_type": "stream",
     "text": [
      "Accuracy: 0.9591836734693877\n"
     ]
    }
   ],
   "source": [
    "count_pipe.fit(X_train, y_train)\n",
    "count_preds = count_pipe.predict(X_test)\n",
    "print(\"Accuracy:\", accuracy_score(y_test, count_preds))"
   ]
  },
  {
   "cell_type": "code",
   "execution_count": 55,
   "metadata": {},
   "outputs": [
    {
     "data": {
      "image/png": "[encoded data removed]",
      "text/plain": [
       "<Figure size 720x720 with 2 Axes>"
      ]
     },
     "metadata": {
      "needs_background": "light"
     },
     "output_type": "display_data"
    }
   ],
   "source": [
    "count_conf_mat = confusion_matrix(y_test, count_preds)\n",
    "fig, ax = plt.subplots(figsize=(10,10))\n",
    "sns.heatmap(count_conf_mat, annot=True, fmt='d',\n",
    "            xticklabels=bbc_articles['category'].unique(), yticklabels=bbc_articles['category'].unique())\n",
    "plt.ylabel('Actual')\n",
    "plt.xlabel('Predicted')\n",
    "plt.show()"
   ]
  },
  {
   "cell_type": "code",
   "execution_count": 57,
   "metadata": {},
   "outputs": [
    {
     "name": "stdout",
     "output_type": "stream",
     "text": [
      "Accuracy: 0.9727891156462585\n"
     ]
    }
   ],
   "source": [
    "tfidf_transform = tfidf_pipe.fit(X_train, y_train)\n",
    "tfidf_preds = tfidf_pipe.predict(X_test)\n",
    "print(\"Accuracy:\", accuracy_score(y_test, tfidf_preds))"
   ]
  },
  {
   "cell_type": "code",
   "execution_count": 58,
   "metadata": {},
   "outputs": [
    {
     "data": {
      "image/png": "[encoded data removed]",
      "text/plain": [
       "<Figure size 720x720 with 2 Axes>"
      ]
     },
     "metadata": {
      "needs_background": "light"
     },
     "output_type": "display_data"
    }
   ],
   "source": [
    "tfidf_conf_mat = confusion_matrix(y_test, tfidf_preds)\n",
    "fig, ax = plt.subplots(figsize=(10,10))\n",
    "sns.heatmap(tfidf_conf_mat, annot=True, fmt='d',\n",
    "            xticklabels=bbc_articles['category'].unique(), yticklabels=bbc_articles['category'].unique())\n",
    "plt.ylabel('Actual')\n",
    "plt.xlabel('Predicted')\n",
    "plt.show()"
   ]
  },
  {
   "cell_type": "markdown",
   "metadata": {},
   "source": [
    "## POS"
   ]
  },
  {
   "cell_type": "code",
   "execution_count": 69,
   "metadata": {},
   "outputs": [],
   "source": [
    "nlp = spacy.load('en_core_web_sm')"
   ]
  },
  {
   "cell_type": "code",
   "execution_count": null,
   "metadata": {},
   "outputs": [],
   "source": [
    "doc = nlp(u'Apple is looking at buying U.K. startup for $1 billion')\n",
    "for token in doc:\n",
    "    print(\"{\", token.text, \"-->: \", token.lemma_, \"}\", token.pos_, token.tag_, token.dep_,\n",
    "          token.shape_, token.is_alpha, token.is_stop)"
   ]
  },
  {
   "cell_type": "code",
   "execution_count": 79,
   "metadata": {},
   "outputs": [
    {
     "name": "stdout",
     "output_type": "stream",
     "text": [
      "<class 'spacy.tokens.doc.Doc'>\n",
      "{ tv -->:  tv } NOUN NN compound xx True False\n",
      "{ future -->:  future } NOUN NN nsubj xxxx True False\n",
      "{ in -->:  in } ADP IN prep xx True True\n",
      "{ the -->:  the } DET DT det xxx True True\n",
      "{ hands -->:  hand } NOUN NNS pobj xxxx True False\n",
      "{ of -->:  of } ADP IN prep xx True True\n",
      "{ viewers -->:  viewer } NOUN NNS pobj xxxx True False\n",
      "{ with -->:  with } ADP IN prep xxxx True True\n",
      "{ home -->:  home } NOUN NN compound xxxx True False\n",
      "{ theatre -->:  theatre } NOUN NN compound xxxx True False\n",
      "{ systems -->:  system } NOUN NNS nmod xxxx True False\n",
      "{   -->:    } SPACE     False False\n",
      "{ plasma -->:  plasma } NOUN NN compound xxxx True False\n",
      "{ high -->:  high } ADJ JJ amod xxxx True False\n",
      "{ - -->:  - } PUNCT HYPH punct - False False\n",
      "{ definition -->:  definition } NOUN NN nmod xxxx True False\n",
      "{ tvs -->:  tvs } NOUN NN nmod xxx True False\n",
      "{   -->:    } SPACE     False False\n",
      "{ and -->:  and } CCONJ CC cc xxx True True\n",
      "{ digital -->:  digital } ADJ JJ conj xxxx True False\n",
      "{ video -->:  video } NOUN NN compound xxxx True False\n",
      "{ recorders -->:  recorder } NOUN NNS nsubj xxxx True False\n",
      "{ moving -->:  move } VERB VBG pcomp xxxx True False\n",
      "{ into -->:  into } ADP IN prep xxxx True True\n",
      "{ the -->:  the } DET DT det xxx True True\n",
      "{ living -->:  living } NOUN NN compound xxxx True False\n",
      "{ room -->:  room } NOUN NN pobj xxxx True False\n",
      "{   -->:    } SPACE     False False\n",
      "{ the -->:  the } DET DT det xxx True True\n",
      "{ way -->:  way } NOUN NN npadvmod xxx True False\n",
      "{ people -->:  people } NOUN NNS nsubj xxxx True False\n",
      "{ watch -->:  watch } VERB VBP relcl xxxx True False\n",
      "{ tv -->:  tv } NOUN NN nsubj xx True False\n",
      "{ will -->:  will } VERB MD aux xxxx True True\n",
      "{ be -->:  be } VERB VB ROOT xx True True\n",
      "{ radically -->:  radically } ADV RB advmod xxxx True False\n",
      "{ different -->:  different } ADJ JJ acomp xxxx True False\n",
      "{ in -->:  in } ADP IN prep xx True True\n",
      "{ five -->:  five } NUM CD nummod xxxx True True\n",
      "{ years -->:  year } NOUN NNS pobj xxxx True False\n",
      "{   -->:    } SPACE     False False\n",
      "{ time -->:  time } NOUN NN npadvmod xxxx True False\n",
      "{ . -->:  . } PUNCT . punct . False False\n",
      "{   -->:    } SPACE     False False\n",
      "{ that -->:  that } ADJ WDT nsubj xxxx True True\n",
      "{ is -->:  be } VERB VBZ ROOT xx True True\n",
      "{ according -->:  accord } VERB VBG prep xxxx True False\n",
      "{ to -->:  to } ADP IN prep xx True True\n",
      "{ an -->:  an } DET DT det xx True True\n",
      "{ expert -->:  expert } ADJ JJ amod xxxx True False\n",
      "{ panel -->:  panel } NOUN NN pobj xxxx True False\n",
      "{ which -->:  which } ADJ WDT nsubj xxxx True True\n",
      "{ gathered -->:  gather } VERB VBD relcl xxxx True False\n",
      "{ at -->:  at } ADP IN prep xx True True\n",
      "{ the -->:  the } DET DT det xxx True True\n",
      "{ annual -->:  annual } ADJ JJ amod xxxx True False\n",
      "{ consumer -->:  consumer } NOUN NN compound xxxx True False\n",
      "{ electronics -->:  electronic } NOUN NNS compound xxxx True False\n",
      "{ show -->:  show } VERB VBP pobj xxxx True True\n",
      "{ in -->:  in } ADP IN prep xx True True\n",
      "{ las -->:  la } NOUN NNS compound xxx True False\n",
      "{ vegas -->:  vegas } VERB VBP pobj xxxx True False\n",
      "{ to -->:  to } PART TO aux xx True True\n",
      "{ discuss -->:  discuss } VERB VB advcl xxxx True False\n",
      "{ how -->:  how } ADV WRB advmod xxx True True\n",
      "{ these -->:  these } DET DT det xxxx True True\n",
      "{ new -->:  new } ADJ JJ amod xxx True False\n",
      "{ technologies -->:  technology } NOUN NNS nsubj xxxx True False\n",
      "{ will -->:  will } VERB MD aux xxxx True True\n",
      "{ impact -->:  impact } VERB VB ccomp xxxx True False\n",
      "{ one -->:  one } NUM CD dobj xxx True True\n",
      "{ of -->:  of } ADP IN prep xx True True\n",
      "{ our -->:  -PRON- } ADJ PRP$ poss xxx True True\n",
      "{ favourite -->:  favourite } ADJ JJ amod xxxx True False\n",
      "{ pastimes -->:  pastime } NOUN NNS pobj xxxx True False\n",
      "{ . -->:  . } PUNCT . punct . False False\n",
      "{ with -->:  with } ADP IN prep xxxx True True\n",
      "{ the -->:  the } DET DT det xxx True True\n",
      "{ us -->:  -PRON- } PRON PRP pobj xx True True\n",
      "{ leading -->:  lead } VERB VBG acl xxxx True False\n",
      "{ the -->:  the } DET DT det xxx True True\n",
      "{ trend -->:  trend } NOUN NN nmod xxxx True False\n",
      "{   -->:    } SPACE     False False\n",
      "{ programmes -->:  programme } NOUN NNS dobj xxxx True False\n",
      "{ and -->:  and } CCONJ CC cc xxx True True\n",
      "{ other -->:  other } ADJ JJ amod xxxx True True\n",
      "{ content -->:  content } NOUN NN conj xxxx True False\n",
      "{ will -->:  will } VERB MD aux xxxx True True\n",
      "{ be -->:  be } VERB VB auxpass xx True True\n",
      "{ delivered -->:  deliver } VERB VBN ROOT xxxx True False\n",
      "{ to -->:  to } ADP IN prep xx True True\n",
      "{ viewers -->:  viewer } NOUN NNS pobj xxxx True False\n",
      "{ via -->:  via } ADP IN prep xxx True True\n",
      "{ home -->:  home } NOUN NN compound xxxx True False\n",
      "{ networks -->:  network } NOUN NNS pobj xxxx True False\n",
      "{   -->:    } SPACE     False False\n",
      "{ through -->:  through } ADP IN prep xxxx True True\n",
      "{ cable -->:  cable } NOUN NN compound xxxx True False\n",
      "{   -->:    } SPACE     False False\n",
      "{ satellite -->:  satellite } NOUN NN compound xxxx True False\n",
      "{   -->:    } SPACE     False False\n",
      "{ telecoms -->:  telecom } VERB VBZ compound xxxx True False\n",
      "{ companies -->:  company } NOUN NNS pobj xxxx True False\n",
      "{   -->:    } SPACE     False False\n",
      "{ and -->:  and } CCONJ CC cc xxx True True\n",
      "{ broadband -->:  broadband } NOUN NN compound xxxx True False\n",
      "{ service -->:  service } NOUN NN compound xxxx True False\n",
      "{ providers -->:  provider } NOUN NNS conj xxxx True False\n",
      "{ to -->:  to } ADP IN prep xx True True\n",
      "{ front -->:  front } VERB VB amod xxxx True True\n",
      "{ rooms -->:  room } NOUN NNS pobj xxxx True False\n",
      "{ and -->:  and } CCONJ CC cc xxx True True\n",
      "{ portable -->:  portable } ADJ JJ amod xxxx True False\n",
      "{ devices -->:  device } NOUN NNS conj xxxx True False\n",
      "{ . -->:  . } PUNCT . punct . False False\n",
      "{   -->:    } SPACE     False False\n",
      "{ one -->:  one } NUM CD nsubj xxx True True\n",
      "{ of -->:  of } ADP IN prep xx True True\n",
      "{ the -->:  the } DET DT det xxx True True\n",
      "{ most -->:  most } ADV RBS advmod xxxx True True\n",
      "{ talked -->:  talk } VERB VBN amod xxxx True False\n",
      "{ - -->:  - } PUNCT HYPH punct - False False\n",
      "{ about -->:  about } ADP IN prt xxxx True True\n",
      "{ technologies -->:  technology } NOUN NNS pobj xxxx True False\n",
      "{ of -->:  of } ADP IN prep xx True True\n",
      "{ ces -->:  ce } NOUN NNS pobj xxx True False\n",
      "{ has -->:  have } VERB VBZ aux xxx True True\n",
      "{ been -->:  be } VERB VBN ROOT xxxx True True\n",
      "{ digital -->:  digital } ADJ JJ amod xxxx True False\n",
      "{ and -->:  and } CCONJ CC cc xxx True True\n",
      "{ personal -->:  personal } ADJ JJ conj xxxx True False\n",
      "{ video -->:  video } NOUN NN compound xxxx True False\n",
      "{ recorders -->:  recorder } NOUN NNS attr xxxx True False\n",
      "{ ( -->:  ( } PUNCT -LRB- punct ( False False\n",
      "{ dvr -->:  dvr } NOUN NN appos xxx True False\n",
      "{ and -->:  and } CCONJ CC cc xxx True True\n",
      "{ pvr -->:  pvr } NOUN NN conj xxx True False\n",
      "{ ) -->:  ) } PUNCT -RRB- punct ) False False\n",
      "{ . -->:  . } PUNCT . punct . False False\n",
      "{ these -->:  these } DET DT det xxxx True True\n",
      "{ set -->:  set } VERB VBN amod xxx True False\n",
      "{ - -->:  - } PUNCT HYPH punct - False False\n",
      "{ top -->:  top } NOUN NN amod xxx True True\n",
      "{ boxes -->:  box } NOUN NNS nsubj xxxx True False\n",
      "{   -->:    } SPACE     False False\n",
      "{ like -->:  like } ADP IN prep xxxx True False\n",
      "{ the -->:  the } DET DT det xxx True True\n",
      "{ us -->:  -PRON- } PRON PRP poss xx True True\n",
      "{ s -->:  s } VERB VBZ case x True False\n",
      "{ tivo -->:  tivo } VERB VBN pobj xxxx True False\n",
      "{ and -->:  and } CCONJ CC cc xxx True True\n",
      "{ the -->:  the } DET DT det xxx True True\n",
      "{ uk -->:  uk } NOUN NN nmod xx True False\n",
      "{ s -->:  s } PART POS intj x True False\n",
      "{ sky+ -->:  sky+ } NOUN NNS compound xxx+ False False\n",
      "{ system -->:  system } NOUN NN conj xxxx True False\n",
      "{   -->:    } SPACE     False False\n",
      "{ allow -->:  allow } VERB VBP ROOT xxxx True False\n",
      "{ people -->:  people } NOUN NNS nsubj xxxx True False\n",
      "{ to -->:  to } PART TO aux xx True True\n",
      "{ record -->:  record } VERB VB ccomp xxxx True False\n",
      "{   -->:    } SPACE     False False\n",
      "{ store -->:  store } NOUN NN dobj xxxx True False\n",
      "{   -->:    } SPACE     False False\n",
      "{ play -->:  play } NOUN NN ccomp xxxx True False\n",
      "{   -->:    } SPACE     False False\n",
      "{ pause -->:  pause } NOUN NN dobj xxxx True False\n",
      "{ and -->:  and } CCONJ CC cc xxx True True\n",
      "{ forward -->:  forward } ADJ JJ advmod xxxx True False\n",
      "{ wind -->:  wind } NOUN NN conj xxxx True False\n",
      "{ tv -->:  tv } NOUN NN compound xx True False\n",
      "{ programmes -->:  programme } NOUN NNS dobj xxxx True False\n",
      "{ when -->:  when } ADV WRB advmod xxxx True True\n",
      "{ they -->:  -PRON- } PRON PRP nsubj xxxx True True\n",
      "{ want -->:  want } VERB VBP advcl xxxx True False\n",
      "{ . -->:  . } PUNCT . punct . False False\n",
      "{   -->:    } SPACE     False False\n",
      "{ essentially -->:  essentially } ADV RB advmod xxxx True False\n",
      "{   -->:    } SPACE     False False\n",
      "{ the -->:  the } DET DT det xxx True True\n",
      "{ technology -->:  technology } NOUN NN nsubj xxxx True False\n",
      "{ allows -->:  allow } VERB VBZ ROOT xxxx True False\n",
      "{ for -->:  for } ADP IN prep xxx True True\n",
      "{ much -->:  much } ADV RB advmod xxxx True True\n",
      "{ more -->:  more } ADV RBR advmod xxxx True True\n",
      "{ personalised -->:  personalised } ADJ JJ amod xxxx True False\n",
      "{ tv -->:  tv } NOUN NN pobj xx True False\n",
      "{ . -->:  . } PUNCT . punct . False False\n",
      "{ they -->:  -PRON- } PRON PRP nsubjpass xxxx True True\n",
      "{ are -->:  be } VERB VBP aux xxx True True\n",
      "{ also -->:  also } ADV RB advmod xxxx True True\n",
      "{ being -->:  be } VERB VBG auxpass xxxx True True\n",
      "{ built -->:  build } VERB VBN ROOT xxxx True False\n",
      "{ - -->:  - } PUNCT HYPH punct - False False\n",
      "{ in -->:  in } PART RP prep xx True True\n",
      "{ to -->:  to } ADP IN prep xx True True\n",
      "{ high -->:  high } ADJ JJ amod xxxx True False\n",
      "{ - -->:  - } PUNCT HYPH punct - False False\n",
      "{ definition -->:  definition } NOUN NN compound xxxx True False\n",
      "{ tv -->:  tv } NOUN NN nsubj xx True False\n",
      "{ sets -->:  set } NOUN NNS pobj xxxx True False\n",
      "{   -->:    } SPACE     False False\n",
      "{ which -->:  which } ADJ WDT nsubj xxxx True True\n",
      "{ are -->:  be } VERB VBP advcl xxx True True\n",
      "{ big -->:  big } ADJ JJ amod xxx True False\n"
     ]
    },
    {
     "name": "stdout",
     "output_type": "stream",
     "text": [
      "{ business -->:  business } NOUN NN attr xxxx True False\n",
      "{ in -->:  in } ADP IN prep xx True True\n",
      "{ japan -->:  japan } NOUN NN pobj xxxx True False\n",
      "{ and -->:  and } CCONJ CC cc xxx True True\n",
      "{ the -->:  the } DET DT det xxx True True\n",
      "{ us -->:  -PRON- } PRON PRP conj xx True True\n",
      "{   -->:    } SPACE     False False\n",
      "{ but -->:  but } CCONJ CC cc xxx True True\n",
      "{ slower -->:  slow } ADJ JJR conj xxxx True False\n",
      "{ to -->:  to } PART TO aux xx True True\n",
      "{ take -->:  take } VERB VB relcl xxxx True True\n",
      "{ off -->:  off } PART RP prt xxx True True\n",
      "{ in -->:  in } ADP IN prep xx True True\n",
      "{ europe -->:  europe } NOUN NN pobj xxxx True False\n",
      "{ because -->:  because } ADP IN prep xxxx True True\n",
      "{ of -->:  of } ADP IN pcomp xx True True\n",
      "{ the -->:  the } DET DT det xxx True True\n",
      "{ lack -->:  lack } NOUN NN pobj xxxx True False\n",
      "{ of -->:  of } ADP IN prep xx True True\n",
      "{ high -->:  high } ADJ JJ amod xxxx True False\n",
      "{ - -->:  - } PUNCT HYPH punct - False False\n",
      "{ definition -->:  definition } NOUN NN compound xxxx True False\n",
      "{ programming -->:  programming } NOUN NN pobj xxxx True False\n",
      "{ . -->:  . } PUNCT . punct . False False\n",
      "{ not -->:  not } ADV RB preconj xxx True True\n",
      "{ only -->:  only } ADV RB advmod xxxx True True\n",
      "{ can -->:  can } VERB MD aux xxx True True\n",
      "{ people -->:  people } NOUN NNS nsubj xxxx True False\n",
      "{ forward -->:  forward } ADV RB advmod xxxx True False\n",
      "{ wind -->:  wind } NOUN NN ROOT xxxx True False\n",
      "{ through -->:  through } ADP IN prep xxxx True True\n",
      "{ adverts -->:  advert } NOUN NNS pobj xxxx True False\n",
      "{   -->:    } SPACE     False False\n",
      "{ they -->:  -PRON- } PRON PRP nsubj xxxx True True\n",
      "{ can -->:  can } VERB MD aux xxx True True\n",
      "{ also -->:  also } ADV RB advmod xxxx True True\n",
      "{ forget -->:  forget } VERB VB ROOT xxxx True False\n",
      "{ about -->:  about } ADP IN prep xxxx True True\n",
      "{ abiding -->:  abide } VERB VBG pcomp xxxx True False\n",
      "{ by -->:  by } ADP IN prep xx True True\n",
      "{ network -->:  network } NOUN NN nmod xxxx True False\n",
      "{ and -->:  and } CCONJ CC cc xxx True True\n",
      "{ channel -->:  channel } NOUN NN conj xxxx True False\n",
      "{ schedules -->:  schedule } NOUN NNS pobj xxxx True False\n",
      "{   -->:    } SPACE     False False\n",
      "{ putting -->:  put } VERB VBG advcl xxxx True False\n",
      "{ together -->:  together } PART RP advmod xxxx True True\n",
      "{ their -->:  -PRON- } ADJ PRP$ poss xxxx True True\n",
      "{ own -->:  own } ADJ JJ amod xxx True True\n",
      "{ a -->:  a } DET DT det x True True\n",
      "{ - -->:  - } PUNCT HYPH punct - False False\n",
      "{ la -->:  la } ADJ JJ amod xx True False\n",
      "{ - -->:  - } PUNCT HYPH punct - False False\n",
      "{ carte -->:  carte } NOUN NN compound xxxx True False\n",
      "{ entertainment -->:  entertainment } NOUN NN dobj xxxx True False\n",
      "{ . -->:  . } PUNCT . punct . False False\n",
      "{ but -->:  but } CCONJ CC cc xxx True True\n",
      "{ some -->:  some } DET DT det xxxx True True\n",
      "{ us -->:  -PRON- } PRON PRP compound xx True True\n",
      "{ networks -->:  network } NOUN NNS nsubj xxxx True False\n",
      "{ and -->:  and } CCONJ CC cc xxx True True\n",
      "{ cable -->:  cable } NOUN NN conj xxxx True False\n",
      "{ and -->:  and } CCONJ CC cc xxx True True\n",
      "{ satellite -->:  satellite } NOUN NN compound xxxx True False\n",
      "{ companies -->:  company } NOUN NNS conj xxxx True False\n",
      "{ are -->:  be } VERB VBP ROOT xxx True True\n",
      "{ worried -->:  worried } ADJ JJ acomp xxxx True False\n",
      "{ about -->:  about } ADP IN prep xxxx True True\n",
      "{ what -->:  what } NOUN WP dobj xxxx True True\n",
      "{ it -->:  -PRON- } PRON PRP nsubj xx True True\n",
      "{ means -->:  mean } VERB VBZ pcomp xxxx True False\n",
      "{ for -->:  for } ADP IN prep xxx True True\n",
      "{ them -->:  -PRON- } PRON PRP pobj xxxx True True\n",
      "{ in -->:  in } ADP IN prep xx True True\n",
      "{ terms -->:  term } NOUN NNS pobj xxxx True False\n",
      "{ of -->:  of } ADP IN prep xx True True\n",
      "{ advertising -->:  advertising } NOUN NN compound xxxx True False\n",
      "{ revenues -->:  revenue } NOUN NNS pobj xxxx True False\n",
      "{ as -->:  as } ADV RB advmod xx True True\n",
      "{ well -->:  well } ADV RB advmod xxxx True True\n",
      "{ as -->:  as } ADP IN cc xx True True\n",
      "{   -->:    } SPACE     False False\n",
      "{ brand -->:  brand } NOUN NN compound xxxx True False\n",
      "{ identity -->:  identity } NOUN NN conj xxxx True False\n",
      "{   -->:    } SPACE     False False\n",
      "{ and -->:  and } CCONJ CC cc xxx True True\n",
      "{ viewer -->:  viewer } NOUN NN amod xxxx True False\n",
      "{ loyalty -->:  loyalty } NOUN NN conj xxxx True False\n",
      "{ to -->:  to } ADP IN prep xx True True\n",
      "{ channels -->:  channel } NOUN NNS pobj xxxx True False\n",
      "{ . -->:  . } PUNCT . punct . False False\n",
      "{ although -->:  although } ADP IN mark xxxx True True\n",
      "{ the -->:  the } DET DT det xxx True True\n",
      "{ us -->:  -PRON- } PRON PRP nsubj xx True True\n",
      "{ leads -->:  lead } VERB VBZ advcl xxxx True False\n",
      "{ in -->:  in } ADP IN prep xx True True\n",
      "{ this -->:  this } DET DT det xxxx True True\n",
      "{ technology -->:  technology } NOUN NN pobj xxxx True False\n",
      "{ at -->:  at } ADP IN prep xx True True\n",
      "{ the -->:  the } DET DT det xxx True True\n",
      "{ moment -->:  moment } NOUN NN pobj xxxx True False\n",
      "{   -->:    } SPACE     False False\n",
      "{ it -->:  -PRON- } PRON PRP nsubj xx True True\n",
      "{ is -->:  be } VERB VBZ ROOT xx True True\n",
      "{ also -->:  also } ADV RB advmod xxxx True True\n",
      "{ a -->:  a } DET DT det x True True\n",
      "{ concern -->:  concern } NOUN NN attr xxxx True False\n",
      "{ that -->:  that } ADJ WDT nsubjpass xxxx True True\n",
      "{ is -->:  be } VERB VBZ aux xx True True\n",
      "{ being -->:  be } VERB VBG auxpass xxxx True True\n",
      "{ raised -->:  raise } VERB VBN relcl xxxx True False\n",
      "{ in -->:  in } ADP IN prep xx True True\n",
      "{ europe -->:  europe } NOUN NN pobj xxxx True False\n",
      "{   -->:    } SPACE     False False\n",
      "{ particularly -->:  particularly } ADV RB advmod xxxx True False\n",
      "{ with -->:  with } ADP IN prep xxxx True True\n",
      "{ the -->:  the } DET DT det xxx True True\n",
      "{ growing -->:  grow } VERB VBG amod xxxx True False\n",
      "{ uptake -->:  uptake } NOUN NN pobj xxxx True False\n",
      "{ of -->:  of } ADP IN prep xx True True\n",
      "{ services -->:  service } NOUN NNS pobj xxxx True False\n",
      "{ like -->:  like } ADP IN prep xxxx True False\n",
      "{ sky+ -->:  sky+ } NOUN NNS pobj xxx+ False False\n",
      "{ . -->:  . } PUNCT . punct . False False\n",
      "{   -->:    } SPACE     False False\n",
      "{ what -->:  what } NOUN WP nsubj xxxx True True\n",
      "{ happens -->:  happen } VERB VBZ ROOT xxxx True False\n",
      "{ here -->:  here } ADV RB advmod xxxx True True\n",
      "{ today -->:  today } NOUN NN npadvmod xxxx True False\n",
      "{   -->:    } SPACE     False False\n",
      "{ we -->:  -PRON- } PRON PRP nsubj xx True True\n",
      "{ will -->:  will } VERB MD aux xxxx True True\n",
      "{ see -->:  see } VERB VB ROOT xxx True True\n",
      "{ in -->:  in } ADP IN prep xx True True\n",
      "{ nine -->:  nine } NUM CD nummod xxxx True True\n",
      "{ months -->:  month } NOUN NNS pobj xxxx True False\n",
      "{ to -->:  to } ADP IN prep xx True True\n",
      "{ a -->:  a } DET DT det x True True\n",
      "{ years -->:  year } NOUN NNS pobj xxxx True False\n",
      "{   -->:    } SPACE     False False\n",
      "{ time -->:  time } NOUN NN npadvmod xxxx True False\n",
      "{ in -->:  in } ADP IN prep xx True True\n",
      "{ the -->:  the } DET DT det xxx True True\n",
      "{ uk -->:  uk } INTJ UH nmod xx True False\n",
      "{    -->:     } SPACE _SP     False False\n",
      "{ adam -->:  adam } ADJ JJ pobj xxxx True False\n",
      "{ hume -->:  hume } VERB VBP pobj xxxx True False\n",
      "{   -->:    } SPACE     False False\n",
      "{ the -->:  the } DET DT det xxx True True\n",
      "{ bbc -->:  bbc } NOUN NN compound xxx True False\n",
      "{ broadcast -->:  broadcast } NOUN NN poss xxxx True False\n",
      "{ s -->:  s } PART POS case x True False\n",
      "{ futurologist -->:  futurologist } NOUN NN nsubj xxxx True False\n",
      "{ told -->:  tell } VERB VBD ROOT xxxx True False\n",
      "{ the -->:  the } DET DT det xxx True True\n",
      "{ bbc -->:  bbc } NOUN NN compound xxx True False\n",
      "{ news -->:  news } NOUN NN compound xxxx True False\n",
      "{ website -->:  website } NOUN NN dobj xxxx True False\n",
      "{ . -->:  . } PUNCT . punct . False False\n",
      "{ for -->:  for } ADP IN prep xxx True True\n",
      "{ the -->:  the } DET DT det xxx True True\n",
      "{ likes -->:  like } NOUN NNS pobj xxxx True False\n",
      "{ of -->:  of } ADP IN prep xx True True\n",
      "{ the -->:  the } DET DT det xxx True True\n",
      "{ bbc -->:  bbc } NOUN NN pobj xxx True False\n",
      "{   -->:    } SPACE     False False\n",
      "{ there -->:  there } ADV EX expl xxxx True True\n",
      "{ are -->:  be } VERB VBP ROOT xxx True True\n",
      "{ no -->:  no } DET DT det xx True True\n",
      "{ issues -->:  issue } NOUN NNS attr xxxx True False\n",
      "{ of -->:  of } ADP IN prep xx True True\n",
      "{ lost -->:  lose } VERB VBN amod xxxx True False\n",
      "{ advertising -->:  advertising } NOUN NN compound xxxx True False\n",
      "{ revenue -->:  revenue } NOUN NN pobj xxxx True False\n",
      "{ yet -->:  yet } ADV RB advmod xxx True True\n",
      "{ . -->:  . } PUNCT . punct . False False\n",
      "{ it -->:  -PRON- } PRON PRP nsubj xx True True\n",
      "{ is -->:  be } VERB VBZ ROOT xx True True\n",
      "{ a -->:  a } DET DT det x True True\n",
      "{ more -->:  more } ADV RBR advmod xxxx True True\n",
      "{ pressing -->:  pressing } ADJ JJ amod xxxx True False\n",
      "{ issue -->:  issue } NOUN NN attr xxxx True False\n"
     ]
    },
    {
     "name": "stdout",
     "output_type": "stream",
     "text": [
      "{ at -->:  at } ADP IN prep xx True True\n",
      "{ the -->:  the } DET DT det xxx True True\n",
      "{ moment -->:  moment } NOUN NN pobj xxxx True False\n",
      "{ for -->:  for } ADP IN prep xxx True True\n",
      "{ commercial -->:  commercial } ADJ JJ amod xxxx True False\n",
      "{ uk -->:  uk } ADJ JJ intj xx True False\n",
      "{ broadcasters -->:  broadcaster } NOUN NNS pobj xxxx True False\n",
      "{   -->:    } SPACE     False False\n",
      "{ but -->:  but } CCONJ CC cc xxx True True\n",
      "{ brand -->:  brand } NOUN NN compound xxxx True False\n",
      "{ loyalty -->:  loyalty } NOUN NN nsubj xxxx True False\n",
      "{ is -->:  be } VERB VBZ conj xx True True\n",
      "{ important -->:  important } ADJ JJ acomp xxxx True False\n",
      "{ for -->:  for } ADP IN prep xxx True True\n",
      "{ everyone -->:  everyone } NOUN NN pobj xxxx True True\n",
      "{ . -->:  . } PUNCT . punct . False False\n",
      "{   -->:    } SPACE     False False\n",
      "{ we -->:  -PRON- } PRON PRP nsubj xx True True\n",
      "{ will -->:  will } VERB MD aux xxxx True True\n",
      "{ be -->:  be } VERB VB aux xx True True\n",
      "{ talking -->:  talk } VERB VBG ROOT xxxx True False\n",
      "{ more -->:  more } ADV RBR advmod xxxx True True\n",
      "{ about -->:  about } ADP IN prep xxxx True True\n",
      "{ content -->:  content } NOUN NN compound xxxx True False\n",
      "{ brands -->:  brand } NOUN NNS pobj xxxx True False\n",
      "{ rather -->:  rather } ADV RB advmod xxxx True True\n",
      "{ than -->:  than } ADP IN cc xxxx True True\n",
      "{ network -->:  network } NOUN NN compound xxxx True False\n",
      "{ brands -->:  brand } NOUN NNS pobj xxxx True False\n",
      "{    -->:     } SPACE _SP     False False\n",
      "{ said -->:  say } VERB VBD ROOT xxxx True False\n",
      "{ tim -->:  tim } NOUN NN compound xxx True False\n",
      "{ hanlon -->:  hanlon } NOUN NN ccomp xxxx True False\n",
      "{   -->:    } SPACE     False False\n",
      "{ from -->:  from } ADP IN prep xxxx True True\n",
      "{ brand -->:  brand } NOUN NN compound xxxx True False\n",
      "{ communications -->:  communication } NOUN NNS compound xxxx True False\n",
      "{ firm -->:  firm } NOUN NN compound xxxx True False\n",
      "{ starcom -->:  starcom } NOUN NN compound xxxx True False\n",
      "{ mediavest -->:  mediav } ADJ JJS pobj xxxx True False\n",
      "{ . -->:  . } PUNCT . punct . False False\n",
      "{   -->:    } SPACE     False False\n",
      "{ the -->:  the } DET DT det xxx True True\n",
      "{ reality -->:  reality } NOUN NN nsubj xxxx True False\n",
      "{ is -->:  be } VERB VBZ ROOT xx True True\n",
      "{ that -->:  that } ADP IN mark xxxx True True\n",
      "{ with -->:  with } ADP IN prep xxxx True True\n",
      "{ broadband -->:  broadband } NOUN NN amod xxxx True False\n",
      "{ connections -->:  connection } NOUN NNS pobj xxxx True False\n",
      "{   -->:    } SPACE     False False\n",
      "{ anybody -->:  anybody } NOUN NN nsubj xxxx True False\n",
      "{ can -->:  can } VERB MD aux xxx True True\n",
      "{ be -->:  be } VERB VB ccomp xx True True\n",
      "{ the -->:  the } DET DT det xxx True True\n",
      "{ producer -->:  producer } NOUN NN attr xxxx True False\n",
      "{ of -->:  of } ADP IN prep xx True True\n",
      "{ content -->:  content } NOUN NN pobj xxxx True False\n",
      "{ . -->:  . } PUNCT . punct . False False\n",
      "{   -->:    } SPACE     False False\n",
      "{ he -->:  -PRON- } PRON PRP nsubj xx True True\n",
      "{ added -->:  add } VERB VBD ROOT xxxx True False\n",
      "{ : -->:  : } PUNCT : punct : False False\n",
      "{   -->:    } SPACE     False False\n",
      "{ the -->:  the } DET DT det xxx True True\n",
      "{ challenge -->:  challenge } NOUN NN nsubj xxxx True False\n",
      "{ now -->:  now } ADV RB advmod xxx True True\n",
      "{ is -->:  be } VERB VBZ ccomp xx True True\n",
      "{ that -->:  that } ADP IN mark xxxx True True\n",
      "{ it -->:  -PRON- } PRON PRP nsubj xx True True\n",
      "{ is -->:  be } VERB VBZ ccomp xx True True\n",
      "{ hard -->:  hard } ADJ JJ acomp xxxx True False\n",
      "{ to -->:  to } PART TO aux xx True True\n",
      "{ promote -->:  promote } VERB VB xcomp xxxx True False\n",
      "{ a -->:  a } DET DT det x True True\n",
      "{ programme -->:  programme } NOUN NN dobj xxxx True False\n",
      "{ with -->:  with } ADP IN prep xxxx True True\n",
      "{ so -->:  so } ADV RB advmod xx True True\n",
      "{ much -->:  much } ADJ JJ amod xxxx True True\n",
      "{ choice -->:  choice } NOUN NN pobj xxxx True False\n",
      "{ . -->:  . } PUNCT . punct . False False\n",
      "{    -->:     } SPACE _SP     False False\n",
      "{ what -->:  what } NOUN WP dobj xxxx True True\n",
      "{ this -->:  this } DET DT nsubj xxxx True True\n",
      "{ means -->:  mean } VERB VBZ csubj xxxx True False\n",
      "{   -->:    } SPACE     False False\n",
      "{ said -->:  say } VERB VBD ROOT xxxx True False\n",
      "{ stacey -->:  stacey } NOUN NN acomp xxxx True False\n",
      "{ jolna -->:  jolna } VERB VBD nsubj xxxx True False\n",
      "{   -->:    } SPACE     False False\n",
      "{ senior -->:  senior } ADJ JJ amod xxxx True False\n",
      "{ vice -->:  vice } NOUN NN compound xxxx True False\n",
      "{ president -->:  president } NOUN NN appos xxxx True False\n",
      "{ of -->:  of } ADP IN prep xx True True\n",
      "{ tv -->:  tv } NOUN NN compound xx True False\n",
      "{ guide -->:  guide } NOUN NN compound xxxx True False\n",
      "{ tv -->:  tv } NOUN NN compound xx True False\n",
      "{ group -->:  group } NOUN NN pobj xxxx True False\n",
      "{   -->:    } SPACE     False False\n",
      "{ is -->:  be } VERB VBZ ccomp xx True True\n",
      "{ that -->:  that } ADP IN nsubj xxxx True True\n",
      "{ the -->:  the } DET DT det xxx True True\n",
      "{ way -->:  way } NOUN NN attr xxx True False\n",
      "{ people -->:  people } NOUN NNS nsubj xxxx True False\n",
      "{ find -->:  find } VERB VBP relcl xxxx True False\n",
      "{ the -->:  the } DET DT det xxx True True\n",
      "{ content -->:  content } NOUN NN nsubj xxxx True False\n",
      "{ they -->:  -PRON- } PRON PRP nsubj xxxx True True\n",
      "{ want -->:  want } VERB VBP relcl xxxx True False\n",
      "{ to -->:  to } PART TO aux xx True True\n",
      "{ watch -->:  watch } VERB VB xcomp xxxx True False\n",
      "{ has -->:  have } VERB VBZ ccomp xxx True True\n",
      "{ to -->:  to } PART TO aux xx True True\n",
      "{ be -->:  be } VERB VB auxpass xx True True\n",
      "{ simplified -->:  simplify } VERB VBN xcomp xxxx True False\n",
      "{ for -->:  for } ADP IN prep xxx True True\n",
      "{ tv -->:  tv } NOUN NN compound xx True False\n",
      "{ viewers -->:  viewer } NOUN NNS pobj xxxx True False\n",
      "{ . -->:  . } PUNCT . punct . False False\n",
      "{ it -->:  -PRON- } PRON PRP nsubj xx True True\n",
      "{ means -->:  mean } VERB VBZ ROOT xxxx True False\n",
      "{ that -->:  that } ADP IN mark xxxx True True\n",
      "{ networks -->:  network } NOUN NNS nsubj xxxx True False\n",
      "{   -->:    } SPACE     False False\n",
      "{ in -->:  in } ADP IN prep xx True True\n",
      "{ us -->:  -PRON- } PRON PRP pobj xx True True\n",
      "{ terms -->:  term } NOUN NNS ccomp xxxx True False\n",
      "{   -->:    } SPACE     False False\n",
      "{ or -->:  or } CCONJ CC cc xx True True\n",
      "{ channels -->:  channel } NOUN NNS nsubj xxxx True False\n",
      "{ could -->:  could } VERB MD aux xxxx True True\n",
      "{ take -->:  take } VERB VB conj xxxx True True\n",
      "{ a -->:  a } DET DT det x True True\n",
      "{ leaf -->:  leaf } NOUN NN dobj xxxx True False\n",
      "{ out -->:  out } ADP IN prep xxx True True\n",
      "{ of -->:  of } ADP IN prep xx True True\n",
      "{ google -->:  google } PROPN NNP poss xxxx True False\n",
      "{ s -->:  s } PART POS case x True False\n",
      "{ book -->:  book } NOUN NN pobj xxxx True False\n",
      "{ and -->:  and } CCONJ CC cc xxx True True\n",
      "{ be -->:  be } VERB VB conj xx True True\n",
      "{ the -->:  the } DET DT det xxx True True\n",
      "{ search -->:  search } NOUN NN compound xxxx True False\n",
      "{ engine -->:  engine } NOUN NN attr xxxx True False\n",
      "{ of -->:  of } ADP IN prep xx True True\n",
      "{ the -->:  the } DET DT det xxx True True\n",
      "{ future -->:  future } NOUN NN pobj xxxx True False\n",
      "{   -->:    } SPACE     False False\n",
      "{ instead -->:  instead } ADV RB advmod xxxx True False\n",
      "{ of -->:  of } ADP IN cc xx True True\n",
      "{ the -->:  the } DET DT det xxx True True\n",
      "{ scheduler -->:  scheduler } NOUN NN conj xxxx True False\n",
      "{ to -->:  to } PART TO aux xx True True\n",
      "{ help -->:  help } VERB VB advcl xxxx True False\n",
      "{ people -->:  people } NOUN NNS nsubj xxxx True False\n",
      "{ find -->:  find } VERB VB ccomp xxxx True False\n",
      "{ what -->:  what } NOUN WP dobj xxxx True True\n",
      "{ they -->:  -PRON- } PRON PRP nsubj xxxx True True\n",
      "{ want -->:  want } VERB VBP ccomp xxxx True False\n",
      "{ to -->:  to } PART TO aux xx True True\n",
      "{ watch -->:  watch } VERB VB xcomp xxxx True False\n",
      "{ . -->:  . } PUNCT . punct . False False\n",
      "{ this -->:  this } DET DT det xxxx True True\n",
      "{ kind -->:  kind } NOUN NN nsubj xxxx True False\n",
      "{ of -->:  of } ADP IN prep xx True True\n",
      "{ channel -->:  channel } NOUN NN compound xxxx True False\n",
      "{ model -->:  model } NOUN NN pobj xxxx True False\n",
      "{ might -->:  may } VERB MD aux xxxx True True\n",
      "{ work -->:  work } VERB VB ROOT xxxx True False\n",
      "{ for -->:  for } ADP IN prep xxx True True\n",
      "{ the -->:  the } DET DT det xxx True True\n",
      "{ younger -->:  young } ADJ JJR amod xxxx True False\n",
      "{ ipod -->:  ipod } NOUN NN amod xxxx True False\n",
      "{ generation -->:  generation } NOUN NN pobj xxxx True False\n",
      "{ which -->:  which } ADJ WDT nsubjpass xxxx True True\n",
      "{ is -->:  be } VERB VBZ auxpass xx True True\n",
      "{ used -->:  use } VERB VBN relcl xxxx True True\n",
      "{ to -->:  to } ADP IN prep xx True True\n",
      "{ taking -->:  take } VERB VBG pcomp xxxx True False\n",
      "{ control -->:  control } NOUN NN dobj xxxx True False\n",
      "{ of -->:  of } ADP IN prep xx True True\n",
      "{ their -->:  -PRON- } ADJ PRP$ poss xxxx True True\n",
      "{ gadgets -->:  gadget } NOUN NNS pobj xxxx True False\n"
     ]
    },
    {
     "name": "stdout",
     "output_type": "stream",
     "text": [
      "{ and -->:  and } CCONJ CC cc xxx True True\n",
      "{ what -->:  what } NOUN WP dobj xxxx True True\n",
      "{ they -->:  -PRON- } PRON PRP nsubj xxxx True True\n",
      "{ play -->:  play } VERB VBP conj xxxx True False\n",
      "{ on -->:  on } ADP IN prep xx True True\n",
      "{ them -->:  -PRON- } PRON PRP pobj xxxx True True\n",
      "{ . -->:  . } PUNCT . punct . False False\n",
      "{ but -->:  but } CCONJ CC cc xxx True True\n",
      "{ it -->:  -PRON- } PRON PRP nsubj xx True True\n",
      "{ might -->:  may } VERB MD aux xxxx True True\n",
      "{ not -->:  not } ADV RB neg xxx True True\n",
      "{ suit -->:  suit } VERB VB ROOT xxxx True False\n",
      "{ everyone -->:  everyone } NOUN NN dobj xxxx True True\n",
      "{   -->:    } SPACE     False False\n",
      "{ the -->:  the } DET DT det xxx True True\n",
      "{ panel -->:  panel } NOUN NN nsubj xxxx True False\n",
      "{ recognised -->:  recognise } VERB VBD relcl xxxx True False\n",
      "{ . -->:  . } PUNCT . punct . False False\n",
      "{ older -->:  old } ADJ JJR amod xxxx True False\n",
      "{ generations -->:  generation } NOUN NNS nsubj xxxx True False\n",
      "{ are -->:  be } VERB VBP ROOT xxx True True\n",
      "{ more -->:  more } ADV RBR advmod xxxx True True\n",
      "{ comfortable -->:  comfortable } ADJ JJ acomp xxxx True False\n",
      "{ with -->:  with } ADP IN prep xxxx True True\n",
      "{ familiar -->:  familiar } ADJ JJ amod xxxx True False\n",
      "{ schedules -->:  schedule } NOUN NNS pobj xxxx True False\n",
      "{ and -->:  and } CCONJ CC cc xxx True True\n",
      "{ channel -->:  channel } NOUN NN compound xxxx True False\n",
      "{ brands -->:  brand } NOUN NNS conj xxxx True False\n",
      "{ because -->:  because } ADP IN mark xxxx True True\n",
      "{ they -->:  -PRON- } PRON PRP nsubj xxxx True True\n",
      "{ know -->:  know } VERB VBP advcl xxxx True False\n",
      "{ what -->:  what } NOUN WP dobj xxxx True True\n",
      "{ they -->:  -PRON- } PRON PRP nsubj xxxx True True\n",
      "{ are -->:  be } VERB VBP aux xxx True True\n",
      "{ getting -->:  get } VERB VBG ccomp xxxx True False\n",
      "{ . -->:  . } PUNCT . punct . False False\n",
      "{ they -->:  -PRON- } PRON PRP nsubj xxxx True True\n",
      "{ perhaps -->:  perhaps } ADV RB advmod xxxx True True\n",
      "{ do -->:  do } VERB VBP aux xx True True\n",
      "{ not -->:  not } ADV RB neg xxx True True\n",
      "{ want -->:  want } VERB VB ccomp xxxx True False\n",
      "{ so -->:  so } ADV RB advmod xx True True\n",
      "{ much -->:  much } ADJ JJ dobj xxxx True True\n",
      "{ of -->:  of } ADP IN prep xx True True\n",
      "{ the -->:  the } DET DT det xxx True True\n",
      "{ choice -->:  choice } NOUN NN pobj xxxx True False\n",
      "{ put -->:  put } VERB VBN acl xxx True True\n",
      "{ into -->:  into } ADP IN prep xxxx True True\n",
      "{ their -->:  -PRON- } ADJ PRP$ poss xxxx True True\n",
      "{ hands -->:  hand } NOUN NNS pobj xxxx True False\n",
      "{   -->:    } SPACE     False False\n",
      "{ mr -->:  mr } ADP IN compound xx True False\n",
      "{ hanlon -->:  hanlon } NOUN NN nsubj xxxx True False\n",
      "{ suggested -->:  suggest } VERB VBD ROOT xxxx True False\n",
      "{ . -->:  . } PUNCT . punct . False False\n",
      "{   -->:    } SPACE     False False\n",
      "{ on -->:  on } ADP IN ROOT xx True True\n",
      "{ the -->:  the } DET DT det xxx True True\n",
      "{ other -->:  other } ADJ JJ amod xxxx True True\n",
      "{ end -->:  end } NOUN NN pobj xxx True False\n",
      "{   -->:    } SPACE     False False\n",
      "{ you -->:  -PRON- } PRON PRP nsubj xxx True True\n",
      "{ have -->:  have } VERB VBP ccomp xxxx True True\n",
      "{ the -->:  the } DET DT det xxx True True\n",
      "{ kids -->:  kid } NOUN NNS dobj xxxx True False\n",
      "{ just -->:  just } ADV RB advmod xxxx True True\n",
      "{ out -->:  out } ADP IN prep xxx True True\n",
      "{ of -->:  of } ADP IN prep xx True True\n",
      "{ diapers -->:  diaper } NOUN NNS pobj xxxx True False\n",
      "{ who -->:  who } NOUN WP nsubj xxx True True\n",
      "{ are -->:  be } VERB VBP aux xxx True True\n",
      "{ pushing -->:  push } VERB VBG relcl xxxx True False\n",
      "{ buttons -->:  button } NOUN NNS dobj xxxx True False\n",
      "{ already -->:  already } ADV RB advmod xxxx True True\n",
      "{ - -->:  - } PUNCT HYPH punct - False False\n",
      "{ everything -->:  everything } NOUN NN nsubj xxxx True True\n",
      "{ is -->:  be } VERB VBZ ccomp xx True True\n",
      "{ possible -->:  possible } ADJ JJ acomp xxxx True False\n",
      "{ and -->:  and } CCONJ CC cc xxx True True\n",
      "{ available -->:  available } ADJ JJ conj xxxx True False\n",
      "{ to -->:  to } ADP IN prep xx True True\n",
      "{ them -->:  -PRON- } PRON PRP pobj xxxx True True\n",
      "{    -->:     } SPACE _SP     False False\n",
      "{ said -->:  say } VERB VBD ROOT xxxx True False\n",
      "{ mr -->:  mr } ADP IN nmod xx True False\n",
      "{ hanlon -->:  hanlon } NOUN NN dobj xxxx True False\n",
      "{ . -->:  . } PUNCT . punct . False False\n",
      "{   -->:    } SPACE     False False\n",
      "{ ultimately -->:  ultimately } ADV RB advmod xxxx True False\n",
      "{   -->:    } SPACE     False False\n",
      "{ the -->:  the } DET DT det xxx True True\n",
      "{ consumer -->:  consumer } NOUN NN nsubj xxxx True False\n",
      "{ will -->:  will } VERB MD aux xxxx True True\n",
      "{ tell -->:  tell } VERB VB ROOT xxxx True False\n",
      "{ the -->:  the } DET DT det xxx True True\n",
      "{ market -->:  market } NOUN NN dobj xxxx True False\n",
      "{ they -->:  -PRON- } PRON PRP nsubj xxxx True True\n",
      "{ want -->:  want } VERB VBP relcl xxxx True False\n",
      "{ . -->:  . } PUNCT . punct . False False\n",
      "{    -->:     } SPACE _SP     False False\n",
      "{ of -->:  of } ADP IN prep xx True True\n",
      "{ the -->:  the } DET DT det xxx True True\n",
      "{ 50 -->:  50 } NUM CD compound dd False False\n",
      "{ 000 -->:  000 } NUM CD nummod ddd False False\n",
      "{ new -->:  new } ADJ JJ amod xxx True False\n",
      "{ gadgets -->:  gadget } NOUN NNS pobj xxxx True False\n",
      "{ and -->:  and } CCONJ CC cc xxx True True\n",
      "{ technologies -->:  technology } NOUN NNS conj xxxx True False\n",
      "{ being -->:  be } VERB VBG auxpass xxxx True True\n",
      "{ showcased -->:  showcas } VERB VBN acl xxxx True False\n",
      "{ at -->:  at } ADP IN prep xx True True\n",
      "{ ces -->:  ce } NOUN NNS pobj xxx True False\n",
      "{   -->:    } SPACE     False False\n",
      "{ many -->:  many } ADJ JJ appos xxxx True True\n",
      "{ of -->:  of } ADP IN prep xx True True\n",
      "{ them -->:  -PRON- } PRON PRP pobj xxxx True True\n",
      "{ are -->:  be } VERB VBP ROOT xxx True True\n",
      "{ about -->:  about } ADP IN prep xxxx True True\n",
      "{ enhancing -->:  enhance } VERB VBG pcomp xxxx True False\n",
      "{ the -->:  the } DET DT det xxx True True\n",
      "{ tv -->:  tv } NOUN NN npadvmod xx True False\n",
      "{ - -->:  - } PUNCT HYPH punct - False False\n",
      "{ watching -->:  watch } VERB VBG amod xxxx True False\n",
      "{ experience -->:  experience } NOUN NN dobj xxxx True False\n",
      "{ . -->:  . } PUNCT . punct . False False\n",
      "{ high -->:  high } ADJ JJ amod xxxx True False\n",
      "{ - -->:  - } PUNCT HYPH punct - False False\n",
      "{ definition -->:  definition } NOUN NN compound xxxx True False\n",
      "{ tv -->:  tv } NOUN NN compound xx True False\n",
      "{ sets -->:  set } NOUN NNS nsubj xxxx True False\n",
      "{ are -->:  be } VERB VBP ROOT xxx True True\n",
      "{ everywhere -->:  everywhere } ADV RB advmod xxxx True True\n",
      "{ and -->:  and } CCONJ CC cc xxx True True\n",
      "{ many -->:  many } ADJ JJ amod xxxx True True\n",
      "{ new -->:  new } ADJ JJ amod xxx True False\n",
      "{ models -->:  model } NOUN NNS nsubj xxxx True False\n",
      "{ of -->:  of } ADP IN prep xx True True\n",
      "{ lcd -->:  lcd } NOUN NN pobj xxx True False\n",
      "{ ( -->:  ( } PUNCT -LRB- punct ( False False\n",
      "{ liquid -->:  liquid } ADJ JJ amod xxxx True False\n",
      "{ crystal -->:  crystal } NOUN NN compound xxxx True False\n",
      "{ display -->:  display } NOUN NN appos xxxx True False\n",
      "{ ) -->:  ) } PUNCT -RRB- punct ) False False\n",
      "{ tvs -->:  tvs } NOUN NN nsubjpass xxx True False\n",
      "{ have -->:  have } VERB VBP aux xxxx True True\n",
      "{ been -->:  be } VERB VBN auxpass xxxx True True\n",
      "{ launched -->:  launch } VERB VBN relcl xxxx True False\n",
      "{ with -->:  with } ADP IN prep xxxx True True\n",
      "{ dvr -->:  dvr } DET DT amod xxx True False\n",
      "{ capability -->:  capability } NOUN NN pobj xxxx True False\n",
      "{ built -->:  build } VERB VBN acl xxxx True False\n",
      "{ into -->:  into } ADP IN prep xxxx True True\n",
      "{ them -->:  -PRON- } PRON PRP pobj xxxx True True\n",
      "{   -->:    } SPACE     False False\n",
      "{ instead -->:  instead } ADV RB advmod xxxx True False\n",
      "{ of -->:  of } ADP IN prep xx True True\n",
      "{ being -->:  be } VERB VBG conj xxxx True True\n",
      "{ external -->:  external } ADJ JJ amod xxxx True False\n",
      "{ boxes -->:  box } NOUN NNS attr xxxx True False\n",
      "{ . -->:  . } PUNCT . punct . False False\n",
      "{ one -->:  one } NUM CD nummod xxx True True\n",
      "{ such -->:  such } ADJ JJ amod xxxx True True\n",
      "{ example -->:  example } NOUN NN nsubj xxxx True False\n",
      "{ launched -->:  launch } VERB VBN acl xxxx True False\n",
      "{ at -->:  at } ADP IN prep xx True True\n",
      "{ the -->:  the } DET DT det xxx True True\n",
      "{ show -->:  show } NOUN NN pobj xxxx True True\n",
      "{ is -->:  be } VERB VBZ ROOT xx True True\n",
      "{ humax -->:  humax } ADJ JJ poss xxxx True False\n",
      "{ s -->:  s } PART POS case x True False\n",
      "{ 26-inch -->:  26-inch } NUM CD amod dd-xxxx False False\n",
      "{ lcd -->:  lcd } NOUN NN amod xxx True False\n",
      "{ tv -->:  tv } NOUN NN attr xx True False\n",
      "{ with -->:  with } ADP IN prep xxxx True True\n",
      "{ an -->:  an } DET DT det xx True True\n",
      "{ 80-hour -->:  80-hour } NUM CD nmod dd-xxxx False False\n",
      "{ tivo -->:  tivo } NOUN NN nmod xxxx True False\n",
      "{ dvr -->:  dvr } NOUN NN amod xxx True False\n",
      "{ and -->:  and } CCONJ CC cc xxx True True\n",
      "{ dvd -->:  dvd } NOUN NN conj xxx True False\n",
      "{ recorder -->:  recorder } NOUN NN pobj xxxx True False\n"
     ]
    },
    {
     "name": "stdout",
     "output_type": "stream",
     "text": [
      "{ . -->:  . } PUNCT . punct . False False\n",
      "{ one -->:  one } NUM CD nsubj xxx True True\n",
      "{ of -->:  of } ADP IN prep xx True True\n",
      "{ the -->:  the } DET DT det xxx True True\n",
      "{ us -->:  -PRON- } PRON PRP poss xx True True\n",
      "{ s -->:  s } VERB VBZ case x True False\n",
      "{ biggest -->:  big } ADJ JJS amod xxxx True False\n",
      "{ satellite -->:  satellite } NOUN NN compound xxxx True False\n",
      "{ tv -->:  tv } NOUN NN compound xx True False\n",
      "{ companies -->:  company } NOUN NNS pobj xxxx True False\n",
      "{   -->:    } SPACE     False False\n",
      "{ directtv -->:  directtv } NOUN NN pobj xxxx True False\n",
      "{   -->:    } SPACE     False False\n",
      "{ has -->:  have } VERB VBZ aux xxx True True\n",
      "{ even -->:  even } ADV RB advmod xxxx True True\n",
      "{ launched -->:  launch } VERB VBN ROOT xxxx True False\n",
      "{ its -->:  -PRON- } ADJ PRP$ poss xxx True True\n",
      "{ own -->:  own } ADJ JJ amod xxx True True\n",
      "{ branded -->:  brand } VERB VBN dobj xxxx True False\n",
      "{ dvr -->:  dvr } ADP IN advmod xxx True False\n",
      "{ at -->:  at } ADP IN prep xx True True\n",
      "{ the -->:  the } DET DT det xxx True True\n",
      "{ show -->:  show } NOUN NN pobj xxxx True True\n",
      "{ with -->:  with } ADP IN prep xxxx True True\n",
      "{ 100-hours -->:  100-hours } NUM CD pobj ddd-xxxx False False\n",
      "{ of -->:  of } ADP IN prep xx True True\n",
      "{ recording -->:  record } VERB VBG amod xxxx True False\n",
      "{ capability -->:  capability } NOUN NN pobj xxxx True False\n",
      "{   -->:    } SPACE     False False\n",
      "{ instant -->:  instant } ADJ JJ compound xxxx True False\n",
      "{ replay -->:  replay } NOUN NN pobj xxxx True False\n",
      "{   -->:    } SPACE     False False\n",
      "{ and -->:  and } CCONJ CC cc xxx True True\n",
      "{ a -->:  a } DET DT det x True True\n",
      "{ search -->:  search } NOUN NN compound xxxx True False\n",
      "{ function -->:  function } NOUN NN conj xxxx True False\n",
      "{ . -->:  . } PUNCT . punct . False False\n",
      "{ the -->:  the } DET DT det xxx True True\n",
      "{ set -->:  set } NOUN NN nsubj xxx True False\n",
      "{ can -->:  can } VERB MD aux xxx True True\n",
      "{ pause -->:  pause } VERB VB ROOT xxxx True False\n",
      "{ and -->:  and } CCONJ CC cc xxx True True\n",
      "{ rewind -->:  rewind } VERB VB conj xxxx True False\n",
      "{ tv -->:  tv } NOUN NN dobj xx True False\n",
      "{ for -->:  for } ADP IN prep xxx True True\n",
      "{ up -->:  up } ADP IN quantmod xx True True\n",
      "{ to -->:  to } PART TO quantmod xx True True\n",
      "{ 90 -->:  90 } NUM CD nummod dd False False\n",
      "{ hours -->:  hour } NOUN NNS pobj xxxx True False\n",
      "{ . -->:  . } PUNCT . punct . False False\n",
      "{ and -->:  and } CCONJ CC cc xxx True True\n",
      "{ microsoft -->:  microsoft } ADJ JJ amod xxxx True False\n",
      "{ chief -->:  chief } ADJ JJ amod xxxx True False\n",
      "{ bill -->:  bill } NOUN NN compound xxxx True False\n",
      "{ gates -->:  gate } NOUN NNS conj xxxx True False\n",
      "{ announced -->:  announce } VERB VBD acl xxxx True False\n",
      "{ in -->:  in } ADP IN prep xx True True\n",
      "{ his -->:  -PRON- } ADJ PRP$ poss xxx True True\n",
      "{ pre -->:  pre } ADJ AFX nmod xxx True False\n",
      "{ - -->:  - } PUNCT HYPH punct - False False\n",
      "{ show -->:  show } NOUN NN punct xxxx True True\n",
      "{ keynote -->:  keynote } ADJ JJ amod xxxx True False\n",
      "{ speech -->:  speech } NOUN NN pobj xxxx True False\n",
      "{ a -->:  a } DET DT det x True True\n",
      "{ partnership -->:  partnership } NOUN NN dobj xxxx True False\n",
      "{ with -->:  with } ADP IN prep xxxx True True\n",
      "{ tivo -->:  tivo } NOUN NN pobj xxxx True False\n",
      "{   -->:    } SPACE     False False\n",
      "{ called -->:  call } VERB VBN acl xxxx True False\n",
      "{ tivotogo -->:  tivotogo } NOUN NN oprd xxxx True False\n",
      "{   -->:    } SPACE     False False\n",
      "{ which -->:  which } ADJ WDT nsubj xxxx True True\n",
      "{ means -->:  mean } VERB VBZ relcl xxxx True False\n",
      "{ people -->:  people } NOUN NNS nsubj xxxx True False\n",
      "{ can -->:  can } VERB MD aux xxx True True\n",
      "{ play -->:  play } VERB VB ccomp xxxx True False\n",
      "{ recorded -->:  record } VERB VBN amod xxxx True False\n",
      "{ programmes -->:  programme } NOUN NNS dobj xxxx True False\n",
      "{ on -->:  on } ADP IN prep xx True True\n",
      "{ windows -->:  window } NOUN NNS nmod xxxx True False\n",
      "{ pcs -->:  pcs } NOUN NN pobj xxx True False\n",
      "{ and -->:  and } CCONJ CC cc xxx True True\n",
      "{ mobile -->:  mobile } ADJ JJ amod xxxx True False\n",
      "{ devices -->:  device } NOUN NNS conj xxxx True False\n",
      "{ . -->:  . } PUNCT . punct . False False\n",
      "{ all -->:  all } ADJ PDT predet xxx True True\n",
      "{ these -->:  these } DET DT nsubj xxxx True True\n",
      "{ reflect -->:  reflect } VERB VBP ROOT xxxx True False\n",
      "{ the -->:  the } DET DT det xxx True True\n",
      "{ increasing -->:  increase } VERB VBG amod xxxx True False\n",
      "{ trend -->:  trend } NOUN NN dobj xxxx True False\n",
      "{ of -->:  of } ADP IN prep xx True True\n",
      "{ freeing -->:  free } VERB VBG pcomp xxxx True False\n",
      "{ up -->:  up } PART RP prt xx True True\n",
      "{ multimedia -->:  multimedia } NOUN NN dobj xxxx True False\n",
      "{ so -->:  so } ADP IN mark xx True True\n",
      "{ that -->:  that } ADP IN mark xxxx True True\n",
      "{ people -->:  people } NOUN NNS nsubj xxxx True False\n",
      "{ can -->:  can } VERB MD aux xxx True True\n",
      "{ watch -->:  watch } VERB VB advcl xxxx True False\n",
      "{ what -->:  what } NOUN WP dobj xxxx True True\n",
      "{ they -->:  -PRON- } PRON PRP nsubj xxxx True True\n",
      "{ want -->:  want } VERB VBP ccomp xxxx True False\n",
      "{   -->:    } SPACE     False False\n",
      "{ when -->:  when } ADV WRB advmod xxxx True True\n",
      "{ they -->:  -PRON- } PRON PRP nsubj xxxx True True\n",
      "{ want -->:  want } VERB VBP advcl xxxx True False\n",
      "{ . -->:  . } PUNCT . punct . False False\n"
     ]
    }
   ],
   "source": [
    "doc = nlp(bbc_articles.loc[0]['text'])\n",
    "for token in doc:\n",
    "    print(\"{\", token.text, \"-->: \", token.lemma_, \"}\", token.pos_, token.tag_, token.dep_,\n",
    "          token.shape_, token.is_alpha, token.is_stop)"
   ]
  },
  {
   "cell_type": "markdown",
   "metadata": {},
   "source": [
    "## NER"
   ]
  },
  {
   "cell_type": "code",
   "execution_count": 66,
   "metadata": {},
   "outputs": [],
   "source": [
    "from spacy import displacy\n",
    "from collections import Counter\n",
    "import en_core_web_sm\n",
    "nlp = en_core_web_sm.load()"
   ]
  },
  {
   "cell_type": "code",
   "execution_count": 81,
   "metadata": {},
   "outputs": [
    {
     "name": "stdout",
     "output_type": "stream",
     "text": [
      "[('European', 'NORP'), ('Google', 'ORG'), ('$5.1 billion', 'MONEY'), ('Wednesday', 'DATE')]\n"
     ]
    }
   ],
   "source": [
    "# doc = nlp(u'Apple is looking at buying U.K. startup for $1 billion')\n",
    "doc = nlp('European authorities fined Google a record $5.1 billion on Wednesday for abusing its power in the mobile phone market and ordered the company to alter its practices')\n",
    "print([(X.text, X.label_) for X in doc.ents])"
   ]
  },
  {
   "cell_type": "code",
   "execution_count": 82,
   "metadata": {},
   "outputs": [
    {
     "name": "stdout",
     "output_type": "stream",
     "text": [
      "[('five years  time', 'DATE'), ('annual', 'DATE'), ('one', 'CARDINAL'), (' ', 'NORP'), (' ', 'NORP'), (' ', 'NORP'), ('one', 'CARDINAL'), (' ', 'NORP'), (' ', 'NORP'), (' ', 'NORP'), (' ', 'NORP'), (' ', 'NORP'), ('japan', 'GPE'), (' ', 'NORP'), (' ', 'NORP'), (' ', 'NORP'), (' ', 'NORP'), ('today', 'DATE'), (' ', 'NORP'), ('nine months to a years', 'DATE'), (' ', 'NORP'), ('  ', 'ORG'), ('  ', 'ORG'), (' ', 'ORG'), (' ', 'NORP'), (' ', 'ORG'), (' ', 'NORP'), (' ', 'NORP'), (' ', 'NORP'), (' ', 'NORP'), (' ', 'NORP'), ('  ', 'ORG'), (' ', 'ORG'), (' ', 'NORP'), ('50 000', 'CARDINAL'), ('one', 'CARDINAL'), ('80-hour', 'CARDINAL'), ('one', 'CARDINAL'), (' ', 'NORP'), (' ', 'ORG'), ('100-hours', 'CARDINAL'), (' ', 'NORP'), (' ', 'PERSON'), ('up to 90 hours', 'TIME')]\n"
     ]
    }
   ],
   "source": [
    "doc = nlp(bbc_articles.loc[0]['text'])\n",
    "print([(X.text, X.label_) for X in doc.ents])"
   ]
  },
  {
   "cell_type": "markdown",
   "metadata": {},
   "source": []
  },
  {
   "cell_type": "code",
   "execution_count": null,
   "metadata": {},
   "outputs": [],
   "source": []
  },
  {
   "cell_type": "code",
   "execution_count": null,
   "metadata": {},
   "outputs": [],
   "source": []
  },
  {
   "cell_type": "code",
   "execution_count": null,
   "metadata": {},
   "outputs": [],
   "source": []
  },
  {
   "cell_type": "markdown",
   "metadata": {},
   "source": [
    "# More reading for further:\n",
    "\n",
    "https://nlpoverview.com\n",
    "https://www.analyticsvidhya.com/blog/2018/04/a-comprehensive-guide-to-understand-and-implement-text-classification-in-python/"
   ]
  }
 ],
 "metadata": {
  "kernelspec": {
   "display_name": "Python 3",
   "language": "python",
   "name": "python3"
  },
  "toc": {
   "base_numbering": 1,
   "nav_menu": {},
   "number_sections": false,
   "sideBar": true,
   "skip_h1_title": false,
   "title_cell": "Table of Contents",
   "title_sidebar": "Contents",
   "toc_cell": false,
   "toc_position": {},
   "toc_section_display": true,
   "toc_window_display": false
  }
 },
 "nbformat": 4,
 "nbformat_minor": 2
}
