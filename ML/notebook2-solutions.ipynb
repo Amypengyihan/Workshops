{
 "cells": [
  {
   "cell_type": "markdown",
   "metadata": {},
   "source": [
    "<center>\n",
    "    <img src=\"https://s3.amazonaws.com/weclouddata/images/logos/wcd_logo.png\" width=\"50%\">\n",
    "</center>\n",
    "\n",
    "----------\n",
    "\n",
    "<h1 align=\"center\"> Toronto Machine Learning Summit </h1>\n",
    "<br>\n",
    "<center align=\"left\"> <font size='4'>  Developed by: </font><font size='4' color='#33AAFBD'>WeCloudData Academy </font></center>\n",
    "<br>\n",
    "<center align=\"left\"> <font size='4' color='#FF5713'> Accelerating your data science career! </font></center>\n",
    "<br>\n",
    "\n",
    "----------"
   ]
  },
  {
   "cell_type": "code",
   "execution_count": 7,
   "metadata": {},
   "outputs": [],
   "source": [
    "import pandas as pd\n",
    "import numpy as np\n",
    "\n",
    "import matplotlib\n",
    "import matplotlib.pyplot as plt\n",
    "% matplotlib inline\n",
    "\n",
    "from sklearn.linear_model import LogisticRegression\n",
    "from sklearn.svm import SVC\n",
    "from sklearn.neighbors import KNeighborsClassifier\n",
    "from sklearn.ensemble import RandomForestClassifier\n",
    "from sklearn.model_selection import train_test_split\n",
    "from sklearn.metrics import classification_report\n",
    "from sklearn.model_selection import cross_val_score\n",
    "from sklearn.metrics import roc_auc_score\n",
    "from sklearn.tree import DecisionTreeClassifier\n",
    "from sklearn.model_selection import GridSearchCV\n",
    "from sklearn.ensemble import VotingClassifier\n",
    "\n",
    "# from mlxtend.plotting import plot_decision_regions\n",
    "# from mlxtend.classifier import StackingClassifier\n",
    "\n",
    "from xgboost import XGBClassifier"
   ]
  },
  {
   "cell_type": "code",
   "execution_count": 8,
   "metadata": {},
   "outputs": [],
   "source": [
    "# local\n",
    "df = pd.read_csv('prepped.csv')"
   ]
  },
  {
   "cell_type": "code",
   "execution_count": 9,
   "metadata": {},
   "outputs": [],
   "source": [
    "# google colab\n",
    "# titanic = pd.read_csv('https://s3.amazonaws.com/weclouddata/workshops/ml_opendata/prepped.csv')"
   ]
  },
  {
   "cell_type": "code",
   "execution_count": 10,
   "metadata": {},
   "outputs": [
    {
     "data": {
      "text/plain": [
       "(28661, 603)"
      ]
     },
     "execution_count": 10,
     "metadata": {},
     "output_type": "execute_result"
    }
   ],
   "source": [
    "df.shape"
   ]
  },
  {
   "cell_type": "code",
   "execution_count": 11,
   "metadata": {},
   "outputs": [
    {
     "name": "stdout",
     "output_type": "stream",
     "text": [
      "<class 'pandas.core.frame.DataFrame'>\n",
      "RangeIndex: 28661 entries, 0 to 28660\n",
      "Columns: 603 entries, year to month_12\n",
      "dtypes: int64(603)\n",
      "memory usage: 131.9 MB\n"
     ]
    }
   ],
   "source": [
    "df.info()"
   ]
  },
  {
   "cell_type": "markdown",
   "metadata": {},
   "source": [
    "### Train Test Split"
   ]
  },
  {
   "cell_type": "code",
   "execution_count": 12,
   "metadata": {},
   "outputs": [],
   "source": [
    "X = df.drop(columns='label')\n",
    "\n",
    "y = df['label']\n",
    "\n",
    "X_train, X_test, y_train, y_test = train_test_split(X, y, random_state=42)"
   ]
  },
  {
   "cell_type": "markdown",
   "metadata": {},
   "source": [
    "## $\\Delta$ Simpler Models"
   ]
  },
  {
   "cell_type": "markdown",
   "metadata": {},
   "source": [
    "### Logistic Regression"
   ]
  },
  {
   "cell_type": "code",
   "execution_count": 13,
   "metadata": {},
   "outputs": [
    {
     "name": "stdout",
     "output_type": "stream",
     "text": [
      "             precision    recall  f1-score   support\n",
      "\n",
      "          0       0.87      0.98      0.92      6048\n",
      "          1       0.65      0.20      0.31      1118\n",
      "\n",
      "avg / total       0.84      0.86      0.83      7166\n",
      "\n"
     ]
    },
    {
     "data": {
      "text/plain": [
       "0.8782306396768607"
      ]
     },
     "execution_count": 13,
     "metadata": {},
     "output_type": "execute_result"
    }
   ],
   "source": [
    "lr = LogisticRegression()\n",
    "\n",
    "lr.fit(X_train, y_train)\n",
    "\n",
    "lr_pred = lr.predict(X_test)\n",
    "\n",
    "lr_proba = lr.predict_proba(X_test)[:, 1]\n",
    "\n",
    "print(classification_report(y_test, lr_pred))\n",
    "\n",
    "roc_auc_score(y_test, lr_proba)"
   ]
  },
  {
   "cell_type": "markdown",
   "metadata": {},
   "source": [
    "### Exercise\n",
    "\n",
    "- Try training a Decision Tree model\n",
    "- Get the classification report scores\n",
    "- Get the ROC AUC score\n",
    "- Try different hyper parameters and see if you can improve the score"
   ]
  },
  {
   "cell_type": "code",
   "execution_count": 14,
   "metadata": {},
   "outputs": [
    {
     "name": "stdout",
     "output_type": "stream",
     "text": [
      "             precision    recall  f1-score   support\n",
      "\n",
      "          0       0.90      0.91      0.90      6048\n",
      "          1       0.47      0.43      0.45      1118\n",
      "\n",
      "avg / total       0.83      0.84      0.83      7166\n",
      "\n"
     ]
    },
    {
     "data": {
      "text/plain": [
       "0.6800693586667425"
      ]
     },
     "execution_count": 14,
     "metadata": {},
     "output_type": "execute_result"
    }
   ],
   "source": [
    "dt = DecisionTreeClassifier()\n",
    "\n",
    "dt.fit(X_train, y_train)\n",
    "\n",
    "dt_pred = dt.predict(X_test)\n",
    "\n",
    "dt_proba = dt.predict_proba(X_test)[:, 1]\n",
    "\n",
    "print(classification_report(y_test, dt_pred))\n",
    "\n",
    "roc_auc_score(y_test, dt_proba)"
   ]
  },
  {
   "cell_type": "markdown",
   "metadata": {},
   "source": [
    "## $\\Delta$ Grid Search\n",
    "\n",
    "Instead of hand tuning the hyperparameters, we can automate this task by doing a \"Grid Search\". We list out a values for different hyperparameters and the Grid Search function tries out every combination.\n",
    "\n",
    "https://scikit-learn.org/stable/modules/generated/sklearn.model_selection.GridSearchCV.html"
   ]
  },
  {
   "cell_type": "code",
   "execution_count": 15,
   "metadata": {},
   "outputs": [],
   "source": [
    "# parameters = {\n",
    "#     'penalty': ['l1', 'l2'],\n",
    "#     'C': [0.1, 1, 10]\n",
    "# }\n",
    "\n",
    "# lr = LogisticRegression()\n",
    "# clf = GridSearchCV(lr, parameters, cv=5, n_jobs=-1, verbose=10)\n",
    "# clf.fit(X_train, y_train)"
   ]
  },
  {
   "cell_type": "markdown",
   "metadata": {},
   "source": [
    "### Exercise\n",
    "\n",
    "- Try using Grid Search with a Decision Tree\n",
    "- Pick any hyper parameters you like\n",
    "\n",
    "The full list of hyper parameters can be found at:\n",
    "https://scikit-learn.org/stable/modules/generated/sklearn.tree.DecisionTreeClassifier.html"
   ]
  },
  {
   "cell_type": "code",
   "execution_count": 16,
   "metadata": {},
   "outputs": [],
   "source": [
    "# parameters = {\n",
    "#     'criterion': ['gini', 'entropy']\n",
    "#     'max_depth': [1, 5, 10],\n",
    "# }\n",
    "\n",
    "# lr = LogisticRegression()\n",
    "# clf = GridSearchCV(lr, parameters, cv=5, n_jobs=-1, verbose=10)\n",
    "# clf.fit(X_train, y_train)"
   ]
  },
  {
   "cell_type": "markdown",
   "metadata": {},
   "source": [
    "## $\\Delta$ Ensemble Methods\n",
    "\n",
    "Ensembling is the idea of combining the predictions of multiple models to improve their performance over each individual model. We're going to explore the following techniques:\n",
    "\n",
    "- Voting\n",
    "- Bagging\n",
    "- Boosting\n",
    "- Stacking\n",
    "\n",
    "https://scikit-learn.org/stable/modules/ensemble.html"
   ]
  },
  {
   "cell_type": "markdown",
   "metadata": {},
   "source": [
    "### Example dataset\n",
    "\n",
    "We're going to borrow a simple dataset to demonstrate these techniques. \n",
    "\n",
    "> Suppose four people throw a combined 187 darts at a board. For 150 of those we get to see who threw each dart and where it landed. For the rest, we only get to see where the dart landed. Our task is to guess who threw each of the unlabelled darts based on their landing spot.\n",
    "\n",
    "https://gormanalysis.com/guide-to-model-stacking-i-e-meta-ensembling/"
   ]
  },
  {
   "cell_type": "code",
   "execution_count": 17,
   "metadata": {},
   "outputs": [],
   "source": [
    "train_df = pd.read_csv('train.csv')\n",
    "\n",
    "test_df = pd.read_csv('test.csv')\n",
    "\n",
    "train_df['label'] = train_df['Competitor'].astype('category').cat.codes\n",
    "test_df['label'] = test_df['Competitor'].astype('category').cat.codes"
   ]
  },
  {
   "cell_type": "code",
   "execution_count": 18,
   "metadata": {},
   "outputs": [
    {
     "data": {
      "text/html": [
       "<div>\n",
       "<style scoped>\n",
       "    .dataframe tbody tr th:only-of-type {\n",
       "        vertical-align: middle;\n",
       "    }\n",
       "\n",
       "    .dataframe tbody tr th {\n",
       "        vertical-align: top;\n",
       "    }\n",
       "\n",
       "    .dataframe thead th {\n",
       "        text-align: right;\n",
       "    }\n",
       "</style>\n",
       "<table border=\"1\" class=\"dataframe\">\n",
       "  <thead>\n",
       "    <tr style=\"text-align: right;\">\n",
       "      <th></th>\n",
       "      <th>ID</th>\n",
       "      <th>XCoord</th>\n",
       "      <th>YCoord</th>\n",
       "      <th>Competitor</th>\n",
       "      <th>label</th>\n",
       "    </tr>\n",
       "  </thead>\n",
       "  <tbody>\n",
       "    <tr>\n",
       "      <th>0</th>\n",
       "      <td>111</td>\n",
       "      <td>0.943354</td>\n",
       "      <td>-0.184819</td>\n",
       "      <td>Bob</td>\n",
       "      <td>0</td>\n",
       "    </tr>\n",
       "    <tr>\n",
       "      <th>1</th>\n",
       "      <td>92</td>\n",
       "      <td>0.121557</td>\n",
       "      <td>-0.927656</td>\n",
       "      <td>Bob</td>\n",
       "      <td>0</td>\n",
       "    </tr>\n",
       "    <tr>\n",
       "      <th>2</th>\n",
       "      <td>20</td>\n",
       "      <td>0.818485</td>\n",
       "      <td>0.375437</td>\n",
       "      <td>Bob</td>\n",
       "      <td>0</td>\n",
       "    </tr>\n",
       "    <tr>\n",
       "      <th>3</th>\n",
       "      <td>75</td>\n",
       "      <td>0.867462</td>\n",
       "      <td>-0.159851</td>\n",
       "      <td>Sue</td>\n",
       "      <td>3</td>\n",
       "    </tr>\n",
       "    <tr>\n",
       "      <th>4</th>\n",
       "      <td>10</td>\n",
       "      <td>-0.817321</td>\n",
       "      <td>-0.373419</td>\n",
       "      <td>Kate</td>\n",
       "      <td>1</td>\n",
       "    </tr>\n",
       "  </tbody>\n",
       "</table>\n",
       "</div>"
      ],
      "text/plain": [
       "    ID    XCoord    YCoord Competitor  label\n",
       "0  111  0.943354 -0.184819        Bob      0\n",
       "1   92  0.121557 -0.927656        Bob      0\n",
       "2   20  0.818485  0.375437        Bob      0\n",
       "3   75  0.867462 -0.159851        Sue      3\n",
       "4   10 -0.817321 -0.373419       Kate      1"
      ]
     },
     "execution_count": 18,
     "metadata": {},
     "output_type": "execute_result"
    }
   ],
   "source": [
    "train_df.head()"
   ]
  },
  {
   "cell_type": "markdown",
   "metadata": {},
   "source": [
    "We can make a scatter plot and color code where each of the four people's darts landed."
   ]
  },
  {
   "cell_type": "code",
   "execution_count": 19,
   "metadata": {},
   "outputs": [
    {
     "data": {
      "text/plain": [
       "<matplotlib.axes._subplots.AxesSubplot at 0x10e317860>"
      ]
     },
     "execution_count": 19,
     "metadata": {},
     "output_type": "execute_result"
    },
    {
     "data": {
      "image/png": "[encoded data removed]",
      "text/plain": [
       "<Figure size 432x288 with 2 Axes>"
      ]
     },
     "metadata": {},
     "output_type": "display_data"
    }
   ],
   "source": [
    "train_df.plot.scatter(x='XCoord', y='YCoord', c='label', colormap='viridis')"
   ]
  },
  {
   "cell_type": "markdown",
   "metadata": {},
   "source": [
    "This is what our test set looks like. Our goal is to predict who threw each dart based on where they landed."
   ]
  },
  {
   "cell_type": "code",
   "execution_count": 20,
   "metadata": {},
   "outputs": [
    {
     "data": {
      "text/plain": [
       "<matplotlib.axes._subplots.AxesSubplot at 0x11339e9b0>"
      ]
     },
     "execution_count": 20,
     "metadata": {},
     "output_type": "execute_result"
    },
    {
     "data": {
      "image/png": "[encoded data removed]",
      "text/plain": [
       "<Figure size 432x288 with 1 Axes>"
      ]
     },
     "metadata": {},
     "output_type": "display_data"
    }
   ],
   "source": [
    "test_df.plot.scatter(x='XCoord', y='YCoord')"
   ]
  },
  {
   "cell_type": "markdown",
   "metadata": {},
   "source": [
    "### Create modelling dataset"
   ]
  },
  {
   "cell_type": "code",
   "execution_count": 21,
   "metadata": {},
   "outputs": [],
   "source": [
    "X_train_d = train_df[['XCoord', 'YCoord']]\n",
    "y_train_d = train_df['label']\n",
    "\n",
    "X_test_d = test_df[['XCoord', 'YCoord']]\n",
    "y_test_d = test_df['label']"
   ]
  },
  {
   "cell_type": "markdown",
   "metadata": {},
   "source": [
    "## Models\n",
    "\n",
    "Here we try out three different models and plot the decision boundaries of their predictions."
   ]
  },
  {
   "cell_type": "markdown",
   "metadata": {},
   "source": [
    "## K-Nearest Neighbours"
   ]
  },
  {
   "cell_type": "code",
   "execution_count": 22,
   "metadata": {},
   "outputs": [
    {
     "ename": "NameError",
     "evalue": "name 'plot_decision_regions' is not defined",
     "output_type": "error",
     "traceback": [
      "\u001b[0;31m---------------------------------------------------------------------------\u001b[0m",
      "\u001b[0;31mNameError\u001b[0m                                 Traceback (most recent call last)",
      "\u001b[0;32m<ipython-input-22-0a5caec34502>\u001b[0m in \u001b[0;36m<module>\u001b[0;34m()\u001b[0m\n\u001b[1;32m      3\u001b[0m \u001b[0mknn\u001b[0m\u001b[0;34m.\u001b[0m\u001b[0mfit\u001b[0m\u001b[0;34m(\u001b[0m\u001b[0mX_train_d\u001b[0m\u001b[0;34m,\u001b[0m \u001b[0my_train_d\u001b[0m\u001b[0;34m)\u001b[0m\u001b[0;34m\u001b[0m\u001b[0m\n\u001b[1;32m      4\u001b[0m \u001b[0;34m\u001b[0m\u001b[0m\n\u001b[0;32m----> 5\u001b[0;31m \u001b[0mplot_decision_regions\u001b[0m\u001b[0;34m(\u001b[0m\u001b[0mX_train_d\u001b[0m\u001b[0;34m.\u001b[0m\u001b[0mvalues\u001b[0m\u001b[0;34m,\u001b[0m \u001b[0my_train_d\u001b[0m\u001b[0;34m.\u001b[0m\u001b[0mvalues\u001b[0m\u001b[0;34m,\u001b[0m \u001b[0mclf\u001b[0m\u001b[0;34m=\u001b[0m\u001b[0mknn\u001b[0m\u001b[0;34m)\u001b[0m\u001b[0;34m\u001b[0m\u001b[0m\n\u001b[0m\u001b[1;32m      6\u001b[0m \u001b[0;34m\u001b[0m\u001b[0m\n\u001b[1;32m      7\u001b[0m \u001b[0mknn\u001b[0m\u001b[0;34m.\u001b[0m\u001b[0mscore\u001b[0m\u001b[0;34m(\u001b[0m\u001b[0mX_test_d\u001b[0m\u001b[0;34m,\u001b[0m \u001b[0my_test_d\u001b[0m\u001b[0;34m)\u001b[0m\u001b[0;34m\u001b[0m\u001b[0m\n",
      "\u001b[0;31mNameError\u001b[0m: name 'plot_decision_regions' is not defined"
     ]
    }
   ],
   "source": [
    "knn = KNeighborsClassifier(n_neighbors=1)\n",
    "\n",
    "knn.fit(X_train_d, y_train_d)\n",
    "\n",
    "plot_decision_regions(X_train_d.values, y_train_d.values, clf=knn)\n",
    "\n",
    "knn.score(X_test_d, y_test_d)"
   ]
  },
  {
   "cell_type": "markdown",
   "metadata": {},
   "source": [
    "## Support Vector Machine"
   ]
  },
  {
   "cell_type": "code",
   "execution_count": null,
   "metadata": {},
   "outputs": [],
   "source": [
    "svm = SVC(C=10)\n",
    "\n",
    "svm.fit(X_train_d, y_train_d)\n",
    "\n",
    "plot_decision_regions(X_train_d.values, y_train_d.values, clf=svm)\n",
    "\n",
    "svm.score(X_test_d, y_test_d)"
   ]
  },
  {
   "cell_type": "markdown",
   "metadata": {},
   "source": [
    "## Decision Tree"
   ]
  },
  {
   "cell_type": "code",
   "execution_count": null,
   "metadata": {},
   "outputs": [],
   "source": [
    "dt = DecisionTreeClassifier()\n",
    "\n",
    "dt.fit(X_train_d, y_train_d)\n",
    "\n",
    "plot_decision_regions(X_train_d.values, y_train_d.values, clf=dt)\n",
    "\n",
    "dt.score(X_test_d, y_test_d)"
   ]
  },
  {
   "cell_type": "markdown",
   "metadata": {},
   "source": [
    "## Voting\n",
    "\n",
    "We can see that each model makes different predictions based on the way they generate the decision boundaries. The idea behind a Voting Classifier is to build multiple models, get their predictions, and let them them \"vote\" on the final prediction.\n",
    "\n",
    "https://scikit-learn.org/stable/modules/ensemble.html#voting-classifier"
   ]
  },
  {
   "cell_type": "code",
   "execution_count": null,
   "metadata": {},
   "outputs": [],
   "source": [
    "clf1 = KNeighborsClassifier(n_neighbors=1)\n",
    "clf2 = SVC(C=10)\n",
    "clf3 = DecisionTreeClassifier()\n",
    "\n",
    "estimators = [\n",
    "    ('knn', clf1),\n",
    "    ('svm', clf2),\n",
    "    ('dt', clf3)\n",
    "]\n",
    "\n",
    "vclf = VotingClassifier(estimators=estimators)\n",
    "\n",
    "vclf = vclf.fit(X_train_d, y_train_d)\n",
    "\n",
    "plot_decision_regions(X_train_d.values, y_train_d.values, clf=vclf)\n",
    "\n",
    "vclf.score(X_test_d, y_test_d)"
   ]
  },
  {
   "cell_type": "markdown",
   "metadata": {},
   "source": [
    "## Exercise\n",
    "\n",
    "- Create a Voting Classifier with Logistic Regression and a Decision Tree\n",
    "- Remember to set `voting` to `soft` so we can get predicted probabilities\n",
    "- Get the ROC AUC score"
   ]
  },
  {
   "cell_type": "code",
   "execution_count": null,
   "metadata": {},
   "outputs": [],
   "source": [
    "clf1 = LogisticRegression()\n",
    "clf2 = DecisionTreeClassifier()\n",
    "\n",
    "estimators = [\n",
    "    ('lr', clf1),\n",
    "    ('dt', clf2)\n",
    "]\n",
    "\n",
    "vclf = VotingClassifier(estimators=estimators, voting='soft')\n",
    "\n",
    "vclf = vclf.fit(X_train, y_train)\n",
    "\n",
    "vclf_proba = vclf.predict_proba(X_test)[:, -1]\n",
    "\n",
    "roc_auc_score(y_test, vclf_proba)"
   ]
  },
  {
   "cell_type": "markdown",
   "metadata": {},
   "source": [
    "## Bagging\n",
    "\n",
    "Bagging is similar to Voting, but instead of different models learning different patterns, the idea is to have one type of model look at different subsets of the data. Bagging uses Bootstrap sampling to pick random subsets of data and trains a separate model on each. The results are aggregated using a majority vote.\n",
    "\n",
    "https://scikit-learn.org/stable/modules/ensemble.html#forest"
   ]
  },
  {
   "cell_type": "code",
   "execution_count": null,
   "metadata": {},
   "outputs": [],
   "source": [
    "rf = RandomForestClassifier()\n",
    "\n",
    "rf.fit(X_train_d, y_train_d)\n",
    "\n",
    "plot_decision_regions(X_train_d.values, y_train_d.values, clf=rf)\n",
    "\n",
    "rf.score(X_test_d, y_test_d)"
   ]
  },
  {
   "cell_type": "markdown",
   "metadata": {},
   "source": [
    "### Exercise\n",
    "\n",
    "- Try a Random Forest model on the Subway dataset\n",
    "- Get the ROC AUC Score\n",
    "- Try tuning the hyper parameters to improve the score"
   ]
  },
  {
   "cell_type": "code",
   "execution_count": null,
   "metadata": {},
   "outputs": [],
   "source": [
    "rf = RandomForestClassifier(n_estimators=50)\n",
    "\n",
    "rf.fit(X_train, y_train)\n",
    "\n",
    "rf_proba = rf.predict_proba(X_test)[:, -1]\n",
    "\n",
    "roc_auc_score(y_test, rf_proba)"
   ]
  },
  {
   "cell_type": "markdown",
   "metadata": {},
   "source": [
    "## Boosting\n",
    "\n",
    "Whereas with Bagging we reduce the variance by averaging the results of multiple models, Boosting builds models sequentially to try and reduce bias. The idea is to \"boost\" weak models by having subsenquent models focus on the errors of the previous ones.\n",
    "\n",
    "https://xgboost.readthedocs.io/en/latest/tutorials/model.html"
   ]
  },
  {
   "cell_type": "code",
   "execution_count": null,
   "metadata": {},
   "outputs": [],
   "source": [
    "xgb = XGBClassifier(silent=False, n_jobs=-1)\n",
    "\n",
    "xgb.fit(X_train_d, y_train_d)\n",
    "\n",
    "xgb.score(X_test_d, y_test_d)"
   ]
  },
  {
   "cell_type": "markdown",
   "metadata": {},
   "source": [
    "### Exercise\n",
    "\n",
    "- Try an XGBoost model on the Subway dataset\n",
    "- Get the ROC AUC Score\n",
    "- Try tuning the hyper parameters to improve the score"
   ]
  },
  {
   "cell_type": "code",
   "execution_count": null,
   "metadata": {},
   "outputs": [],
   "source": [
    "xgb = XGBClassifier(silent=False, n_jobs=-1)\n",
    "\n",
    "xgb.fit(X_train.values, y_train.values)\n",
    "\n",
    "xgb_proba = xgb.predict_proba(X_test.values)[:, -1]\n",
    "\n",
    "roc_auc_score(y_test.values, xgb_proba)"
   ]
  },
  {
   "cell_type": "markdown",
   "metadata": {},
   "source": [
    "## Stacking\n",
    "\n",
    "> Stacking is an ensemble learning technique to combine multiple classification models via a meta-classifier. The individual classification models are trained based on the complete training set; then, the meta-classifier is fitted based on the outputs -- meta-features -- of the individual classification models in the ensemble. The meta-classifier can either be trained on the predicted class labels or probabilities from the ensemble.\n",
    "\n",
    "<img src=\"https://rasbt.github.io/mlxtend/user_guide/classifier/StackingClassifier_files/stackingclassification_overview.png\">\n",
    "\n",
    "https://rasbt.github.io/mlxtend/user_guide/classifier/StackingClassifier/"
   ]
  },
  {
   "cell_type": "code",
   "execution_count": null,
   "metadata": {},
   "outputs": [],
   "source": [
    "clf1 = KNeighborsClassifier(n_neighbors=1)\n",
    "clf2 = SVC(C=10)\n",
    "clf3 = DecisionTreeClassifier()\n",
    "\n",
    "meta = RandomForestClassifier()\n",
    "\n",
    "sclf = StackingClassifier(classifiers=[clf1, clf2, clf3], meta_classifier=meta)\n",
    "\n",
    "sclf.fit(X_train_d, y_train_d)\n",
    "\n",
    "plot_decision_regions(X_train_d.values, y_train_d.values, clf=sclf)\n",
    "\n",
    "sclf.score(X_test_d, y_test_d)"
   ]
  },
  {
   "cell_type": "markdown",
   "metadata": {},
   "source": [
    "### Exercise\n",
    "\n",
    "- Try Stacking Random Forest, XGBoost, and Logistic Regression\n",
    "- Use Logistic Regression as the meta classifier\n",
    "- Get the ROC AUC Score\n",
    "- Try changing the meta classifier. How does it effect the performance?"
   ]
  },
  {
   "cell_type": "code",
   "execution_count": null,
   "metadata": {},
   "outputs": [],
   "source": [
    "clf1 = RandomForestClassifier(n_estimators=100, n_jobs=-1)\n",
    "clf2 = XGBClassifier(n_jobs=-1)\n",
    "clf3 = LogisticRegression()\n",
    "\n",
    "meta = RandomForestClassifier()\n",
    "\n",
    "sclf = StackingClassifier(classifiers=[clf1, clf2, clf3], meta_classifier=meta)\n",
    "\n",
    "sclf.fit(X_train.values, y_train.values)\n",
    "\n",
    "sclf_proba = sclf.predict_proba(X_test.values)[:, -1]\n",
    "\n",
    "roc_auc_score(y_test.values, sclf_proba)"
   ]
  }
 ],
 "metadata": {
  "kernelspec": {
   "display_name": "Python 3",
   "language": "python",
   "name": "python3"
  },
  "language_info": {
   "codemirror_mode": {
    "name": "ipython",
    "version": 3
   },
   "file_extension": ".py",
   "mimetype": "text/x-python",
   "name": "python",
   "nbconvert_exporter": "python",
   "pygments_lexer": "ipython3",
   "version": "3.6.5"
  },
  "toc": {
   "base_numbering": 1,
   "nav_menu": {},
   "number_sections": false,
   "sideBar": true,
   "skip_h1_title": false,
   "title_cell": "Table of Contents",
   "title_sidebar": "Contents",
   "toc_cell": false,
   "toc_position": {},
   "toc_section_display": true,
   "toc_window_display": true
  }
 },
 "nbformat": 4,
 "nbformat_minor": 2
}
