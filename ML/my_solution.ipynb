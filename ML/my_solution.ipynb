{
 "cells": [
  {
   "cell_type": "markdown",
   "metadata": {},
   "source": [
    "# $\\Omega$ Pandas\n",
    "\n",
    "> `pandas` is a Python package providing fast, flexible, and expressive data structures designed to make working with “relational” or “labeled” data both easy and intuitive. It aims to be the fundamental high-level building block for doing practical, real world data analysis in Python. Additionally, it has the broader goal of becoming the most powerful and flexible open source data analysis / manipulation tool available in any language. It is already well on its way toward this goal.\n",
    "\n",
    "> `pandas` is well suited for many different kinds of data:\n",
    "\n",
    "> * Tabular data with heterogeneously-typed columns, as in an SQL table or Excel spreadsheet\n",
    "* Ordered and unordered (not necessarily fixed-frequency) time series data.\n",
    "* Arbitrary matrix data (homogeneously typed or heterogeneous) with row and column labels\n",
    "* Any other form of observational / statistical data sets. The data actually need not be labeled at all to be placed into a pandas data structure\n",
    "\n",
    "For more tutorials, visit: https://pandas.pydata.org/pandas-docs/stable/tutorials.html"
   ]
  },
  {
   "cell_type": "code",
   "execution_count": 141,
   "metadata": {},
   "outputs": [],
   "source": [
    "import pandas as pd\n",
    "import numpy as np"
   ]
  },
  {
   "cell_type": "code",
   "execution_count": 142,
   "metadata": {},
   "outputs": [],
   "source": [
    "# prepped_df = pd.read_csv('prepped.csv')\n",
    "subway_df = pd.read_csv('subway.csv')"
   ]
  },
  {
   "cell_type": "code",
   "execution_count": 143,
   "metadata": {},
   "outputs": [
    {
     "data": {
      "text/html": [
       "<div>\n",
       "<style scoped>\n",
       "    .dataframe tbody tr th:only-of-type {\n",
       "        vertical-align: middle;\n",
       "    }\n",
       "\n",
       "    .dataframe tbody tr th {\n",
       "        vertical-align: top;\n",
       "    }\n",
       "\n",
       "    .dataframe thead th {\n",
       "        text-align: right;\n",
       "    }\n",
       "</style>\n",
       "<table border=\"1\" class=\"dataframe\">\n",
       "  <thead>\n",
       "    <tr style=\"text-align: right;\">\n",
       "      <th></th>\n",
       "      <th>Date</th>\n",
       "      <th>Time</th>\n",
       "      <th>Day</th>\n",
       "      <th>Station</th>\n",
       "      <th>Code</th>\n",
       "      <th>Min Delay</th>\n",
       "      <th>Min Gap</th>\n",
       "      <th>Bound</th>\n",
       "      <th>Line</th>\n",
       "      <th>Vehicle</th>\n",
       "    </tr>\n",
       "  </thead>\n",
       "  <tbody>\n",
       "    <tr>\n",
       "      <th>0</th>\n",
       "      <td>2017-05-01</td>\n",
       "      <td>00:18</td>\n",
       "      <td>Monday</td>\n",
       "      <td>KIPLING STATION (ENTER</td>\n",
       "      <td>TUSC</td>\n",
       "      <td>0</td>\n",
       "      <td>0</td>\n",
       "      <td>W</td>\n",
       "      <td>BD</td>\n",
       "      <td>5251</td>\n",
       "    </tr>\n",
       "    <tr>\n",
       "      <th>1</th>\n",
       "      <td>2017-05-01</td>\n",
       "      <td>00:58</td>\n",
       "      <td>Monday</td>\n",
       "      <td>ISLINGTON STATION</td>\n",
       "      <td>MUSC</td>\n",
       "      <td>0</td>\n",
       "      <td>0</td>\n",
       "      <td>W</td>\n",
       "      <td>BD</td>\n",
       "      <td>5182</td>\n",
       "    </tr>\n",
       "    <tr>\n",
       "      <th>2</th>\n",
       "      <td>2017-05-01</td>\n",
       "      <td>01:07</td>\n",
       "      <td>Monday</td>\n",
       "      <td>UNION STATION (DOWNSVI</td>\n",
       "      <td>MUPAA</td>\n",
       "      <td>3</td>\n",
       "      <td>7</td>\n",
       "      <td>N</td>\n",
       "      <td>YU</td>\n",
       "      <td>5811</td>\n",
       "    </tr>\n",
       "    <tr>\n",
       "      <th>3</th>\n",
       "      <td>2017-05-01</td>\n",
       "      <td>01:18</td>\n",
       "      <td>Monday</td>\n",
       "      <td>MCCOWAN STATION</td>\n",
       "      <td>MRTO</td>\n",
       "      <td>4</td>\n",
       "      <td>9</td>\n",
       "      <td>S</td>\n",
       "      <td>SRT</td>\n",
       "      <td>3006</td>\n",
       "    </tr>\n",
       "    <tr>\n",
       "      <th>4</th>\n",
       "      <td>2017-05-01</td>\n",
       "      <td>01:42</td>\n",
       "      <td>Monday</td>\n",
       "      <td>CASTLE FRANK STATION</td>\n",
       "      <td>MUO</td>\n",
       "      <td>7</td>\n",
       "      <td>11</td>\n",
       "      <td>W</td>\n",
       "      <td>BD</td>\n",
       "      <td>5296</td>\n",
       "    </tr>\n",
       "  </tbody>\n",
       "</table>\n",
       "</div>"
      ],
      "text/plain": [
       "         Date   Time     Day                 Station   Code  Min Delay  \\\n",
       "0  2017-05-01  00:18  Monday  KIPLING STATION (ENTER   TUSC          0   \n",
       "1  2017-05-01  00:58  Monday       ISLINGTON STATION   MUSC          0   \n",
       "2  2017-05-01  01:07  Monday  UNION STATION (DOWNSVI  MUPAA          3   \n",
       "3  2017-05-01  01:18  Monday         MCCOWAN STATION   MRTO          4   \n",
       "4  2017-05-01  01:42  Monday    CASTLE FRANK STATION    MUO          7   \n",
       "\n",
       "   Min Gap Bound Line  Vehicle  \n",
       "0        0     W   BD     5251  \n",
       "1        0     W   BD     5182  \n",
       "2        7     N   YU     5811  \n",
       "3        9     S  SRT     3006  \n",
       "4       11     W   BD     5296  "
      ]
     },
     "execution_count": 143,
     "metadata": {},
     "output_type": "execute_result"
    }
   ],
   "source": [
    "subway_df.head()"
   ]
  },
  {
   "cell_type": "code",
   "execution_count": 144,
   "metadata": {},
   "outputs": [
    {
     "data": {
      "text/plain": [
       "array(['TUSC', 'MUSC', 'MUPAA', 'MRTO', 'MUO', 'EUBK', 'MUI', 'EUDO',\n",
       "       'EUNT', 'MUDD', 'TRTC', 'EUVA', 'TUMVS', 'MUPR1', 'PUSO', 'MUIE',\n",
       "       'MUIR', 'MRO', 'PUMEL', 'MUIS', 'MUPLB', 'EUPI', 'MUNCA', 'PUMST',\n",
       "       'SUDP', 'SUCOL', 'MUIRS', 'SRDP', 'PUSTC', 'MUGD', 'SUO', 'PUMO',\n",
       "       'ERDO', 'EUCD', 'PRSW', 'PUCSS', 'TUNIP', 'EUAL', 'MUD', 'MUSAN',\n",
       "       'PUTDN', 'PUTIJ', 'SUSA', 'SUAP', 'PUSTS', 'ERTC', 'EUYRD',\n",
       "       'TRNCA', 'PUSRA', 'MRCL', 'SUUT', 'PUSSW', 'TUSUP', 'TUOS', 'MUTD',\n",
       "       'EUTRD', 'PUTOE', 'TUNOA', 'PUTO', 'TUO', 'TUS', 'PRW', 'MRSTM',\n",
       "       'TUKEY', 'SUSP', 'SUG', 'EUAC', 'PUTWZ', 'EUOPO', 'EUO', 'PUOPO',\n",
       "       'EUTM', 'MUTO', 'PUSI', 'EUBO', 'SUBT', 'SUROB', 'MRUIR', 'TRO',\n",
       "       'MUPLC', 'SUAE', 'PUTR', 'MUNOA', 'TUCC', 'EUOE', 'PUSNT', 'MRD',\n",
       "       'SUEAS', 'MRWEA', 'MRUI', 'MUCL', 'ERAC', 'PUCSC', 'PUSCR', 'ERHV',\n",
       "       'MRPAA', 'PRO', 'SRO', 'MUWR', 'EUME', 'EUNEA', 'SRUT', 'SUPOL',\n",
       "       'ERPR', 'PUTNT', 'XXXXX', 'EUSC', 'EUTR', 'ERTR', 'EUCO', 'EULV',\n",
       "       'SRCOL', 'PUTTC', 'TRNOA', 'ERRA', 'PRSA', 'ERNT', 'ERDB', 'TUDOE',\n",
       "       'PREL', 'PUSTP', 'SRAP', 'TUNCA', nan, 'EUTL', 'PRS', 'EUHV',\n",
       "       'MRSAN', 'PUTD', 'ERBO', 'MRIE', 'TRNIP', 'EUVE', 'MRPLB', 'TUSET',\n",
       "       'MUODC', 'SRBT', 'ERTB', 'ERLT', 'TRSET', 'PUTTP', 'EUCA', 'TUOPO',\n",
       "       'MUFS', 'MUATC', 'SRAE', 'PUATC', 'MRNOA', 'EUECD', 'ERWA',\n",
       "       'EUATC', 'MRDD', 'TUATC', 'PRST', 'MUWEA', 'PUSWZ', 'PUTSM',\n",
       "       'TUML', 'MUEC', 'PUTCD', 'PUSIS', 'PUTSC', 'TUST', 'TRST', 'PUTIS',\n",
       "       'MUPLA', 'ERME', 'PRSO', 'MUFM', 'ERLV', 'ERTL', 'PUSCA', 'ERO',\n",
       "       'PRSL', 'ERCO', 'MUESA', 'PRSP', 'PUSZC', 'PUEO', 'MRESA', 'SREAS',\n",
       "       'PUEWZ', 'MUCSA', 'MUPF', 'MRFS', 'SRSA', 'ERNEA', 'PUSAC'],\n",
       "      dtype=object)"
      ]
     },
     "execution_count": 144,
     "metadata": {},
     "output_type": "execute_result"
    }
   ],
   "source": [
    "subway_df['Code'].unique()"
   ]
  },
  {
   "cell_type": "code",
   "execution_count": 145,
   "metadata": {},
   "outputs": [
    {
     "data": {
      "text/plain": [
       "array(['BD', 'YU', 'SRT', 'SHP', 'YU/BD', 'YU / BD', 'YU BD', nan,\n",
       "       'BD/YU', 'B/D', 'YU/ BD', 'YU - BD', '11 BAYVIEW', 'YU - BD LINE',\n",
       "       'BD LINE', '85 SHEPPARD EAST', 'YU LINE', 'YU-BD',\n",
       "       'BLOOR DANFORTH LINES', '999', '16 MCCOWAN', 'YUS',\n",
       "       'YONGE UNIVERSITY SERVI'], dtype=object)"
      ]
     },
     "execution_count": 145,
     "metadata": {},
     "output_type": "execute_result"
    }
   ],
   "source": [
    "subway_df['Line'].unique()"
   ]
  },
  {
   "cell_type": "code",
   "execution_count": 146,
   "metadata": {},
   "outputs": [],
   "source": [
    "subway_df2 = subway_df.drop(columns=['Line'])"
   ]
  },
  {
   "cell_type": "code",
   "execution_count": 147,
   "metadata": {},
   "outputs": [],
   "source": [
    "subway_df2['Date'] = pd.to_datetime(subway_df2['Date'])\n",
    "subway_df2['year'] = subway_df2['Date'].dt.year\n",
    "subway_df2['month'] = subway_df2['Date'].dt.month\n",
    "subway_df2['dayofweek'] = subway_df2['Date'].dt.dayofweek\n",
    "\n",
    "subway_df2 = subway_df2.drop(columns=['Date'])\n",
    "subway_df2 = subway_df2.drop(columns=['Time'])"
   ]
  },
  {
   "cell_type": "code",
   "execution_count": 148,
   "metadata": {},
   "outputs": [
    {
     "data": {
      "text/html": [
       "<div>\n",
       "<style scoped>\n",
       "    .dataframe tbody tr th:only-of-type {\n",
       "        vertical-align: middle;\n",
       "    }\n",
       "\n",
       "    .dataframe tbody tr th {\n",
       "        vertical-align: top;\n",
       "    }\n",
       "\n",
       "    .dataframe thead th {\n",
       "        text-align: right;\n",
       "    }\n",
       "</style>\n",
       "<table border=\"1\" class=\"dataframe\">\n",
       "  <thead>\n",
       "    <tr style=\"text-align: right;\">\n",
       "      <th></th>\n",
       "      <th>Day</th>\n",
       "      <th>Station</th>\n",
       "      <th>Code</th>\n",
       "      <th>Min Delay</th>\n",
       "      <th>Min Gap</th>\n",
       "      <th>Bound</th>\n",
       "      <th>Vehicle</th>\n",
       "      <th>year</th>\n",
       "      <th>month</th>\n",
       "      <th>dayofweek</th>\n",
       "    </tr>\n",
       "  </thead>\n",
       "  <tbody>\n",
       "    <tr>\n",
       "      <th>0</th>\n",
       "      <td>Monday</td>\n",
       "      <td>KIPLING STATION (ENTER</td>\n",
       "      <td>TUSC</td>\n",
       "      <td>0</td>\n",
       "      <td>0</td>\n",
       "      <td>W</td>\n",
       "      <td>5251</td>\n",
       "      <td>2017</td>\n",
       "      <td>5</td>\n",
       "      <td>0</td>\n",
       "    </tr>\n",
       "    <tr>\n",
       "      <th>1</th>\n",
       "      <td>Monday</td>\n",
       "      <td>ISLINGTON STATION</td>\n",
       "      <td>MUSC</td>\n",
       "      <td>0</td>\n",
       "      <td>0</td>\n",
       "      <td>W</td>\n",
       "      <td>5182</td>\n",
       "      <td>2017</td>\n",
       "      <td>5</td>\n",
       "      <td>0</td>\n",
       "    </tr>\n",
       "    <tr>\n",
       "      <th>2</th>\n",
       "      <td>Monday</td>\n",
       "      <td>UNION STATION (DOWNSVI</td>\n",
       "      <td>MUPAA</td>\n",
       "      <td>3</td>\n",
       "      <td>7</td>\n",
       "      <td>N</td>\n",
       "      <td>5811</td>\n",
       "      <td>2017</td>\n",
       "      <td>5</td>\n",
       "      <td>0</td>\n",
       "    </tr>\n",
       "    <tr>\n",
       "      <th>3</th>\n",
       "      <td>Monday</td>\n",
       "      <td>MCCOWAN STATION</td>\n",
       "      <td>MRTO</td>\n",
       "      <td>4</td>\n",
       "      <td>9</td>\n",
       "      <td>S</td>\n",
       "      <td>3006</td>\n",
       "      <td>2017</td>\n",
       "      <td>5</td>\n",
       "      <td>0</td>\n",
       "    </tr>\n",
       "    <tr>\n",
       "      <th>4</th>\n",
       "      <td>Monday</td>\n",
       "      <td>CASTLE FRANK STATION</td>\n",
       "      <td>MUO</td>\n",
       "      <td>7</td>\n",
       "      <td>11</td>\n",
       "      <td>W</td>\n",
       "      <td>5296</td>\n",
       "      <td>2017</td>\n",
       "      <td>5</td>\n",
       "      <td>0</td>\n",
       "    </tr>\n",
       "  </tbody>\n",
       "</table>\n",
       "</div>"
      ],
      "text/plain": [
       "      Day                 Station   Code  Min Delay  Min Gap Bound  Vehicle  \\\n",
       "0  Monday  KIPLING STATION (ENTER   TUSC          0        0     W     5251   \n",
       "1  Monday       ISLINGTON STATION   MUSC          0        0     W     5182   \n",
       "2  Monday  UNION STATION (DOWNSVI  MUPAA          3        7     N     5811   \n",
       "3  Monday         MCCOWAN STATION   MRTO          4        9     S     3006   \n",
       "4  Monday    CASTLE FRANK STATION    MUO          7       11     W     5296   \n",
       "\n",
       "   year  month  dayofweek  \n",
       "0  2017      5          0  \n",
       "1  2017      5          0  \n",
       "2  2017      5          0  \n",
       "3  2017      5          0  \n",
       "4  2017      5          0  "
      ]
     },
     "execution_count": 148,
     "metadata": {},
     "output_type": "execute_result"
    }
   ],
   "source": [
    "subway_df2.head()"
   ]
  },
  {
   "cell_type": "code",
   "execution_count": 149,
   "metadata": {},
   "outputs": [],
   "source": [
    "subway_df2 = pd.concat([subway_df2.drop('Code', axis=1), pd.get_dummies(subway_df2['Code'])], axis=1)\n",
    "subway_df2 = pd.concat([subway_df2.drop('Day', axis=1), pd.get_dummies(subway_df2['Day'])], axis=1)\n",
    "subway_df2 = pd.concat([subway_df2.drop('Bound', axis=1), pd.get_dummies(subway_df2['Bound'])], axis=1)\n",
    "subway_df2 = pd.concat([subway_df2.drop('Station', axis=1), pd.get_dummies(subway_df2['Station'])], axis=1)"
   ]
  },
  {
   "cell_type": "code",
   "execution_count": 151,
   "metadata": {},
   "outputs": [],
   "source": [
    "# subway_df2.head()\n",
    "# subway_df2['Time'] = subway_df2['Time'].to_string()"
   ]
  },
  {
   "cell_type": "code",
   "execution_count": 152,
   "metadata": {},
   "outputs": [],
   "source": [
    "from sklearn.model_selection import train_test_split\n",
    "\n",
    "subway_df2['label'] = (subway_df2['Min Delay'] >= 5).astype(int)\n",
    "\n",
    "X = subway_df2.drop(columns=['Min Delay', 'label'])\n",
    "\n",
    "y = subway_df2['label']\n",
    "\n",
    "X_train, X_test, y_train, y_test = train_test_split(X, y, test_size=0.25, random_state=2018)"
   ]
  },
  {
   "cell_type": "code",
   "execution_count": 153,
   "metadata": {},
   "outputs": [
    {
     "data": {
      "text/plain": [
       "RandomForestClassifier(bootstrap=True, class_weight=None, criterion='gini',\n",
       "            max_depth=2, max_features='auto', max_leaf_nodes=None,\n",
       "            min_impurity_decrease=0.0, min_impurity_split=None,\n",
       "            min_samples_leaf=1, min_samples_split=2,\n",
       "            min_weight_fraction_leaf=0.0, n_estimators=100, n_jobs=1,\n",
       "            oob_score=False, random_state=2018, verbose=0,\n",
       "            warm_start=False)"
      ]
     },
     "execution_count": 153,
     "metadata": {},
     "output_type": "execute_result"
    }
   ],
   "source": [
    "from sklearn.ensemble import RandomForestClassifier\n",
    "clf = RandomForestClassifier(n_estimators=100, max_depth=2, random_state=2018)\n",
    "clf.fit(X_train, y_train)"
   ]
  },
  {
   "cell_type": "code",
   "execution_count": 155,
   "metadata": {},
   "outputs": [
    {
     "data": {
      "text/plain": [
       "0.9598950989189421"
      ]
     },
     "execution_count": 155,
     "metadata": {},
     "output_type": "execute_result"
    }
   ],
   "source": [
    "from sklearn.metrics import roc_auc_score\n",
    "\n",
    "clf_proba = clf.predict_proba(X_test)[:, -1]\n",
    "\n",
    "roc_auc_score(y_test, clf_proba)"
   ]
  },
  {
   "cell_type": "code",
   "execution_count": null,
   "metadata": {},
   "outputs": [],
   "source": [
    "# from imblearn.over_sampling import SMOTE\n",
    "# sm = SMOTE(random_state=2018)\n",
    "# X_train_res, y_train_res = sm.fit_sample(X_train, y_train.ravel())"
   ]
  }
 ],
 "metadata": {
  "kernelspec": {
   "display_name": "Python 3",
   "language": "python",
   "name": "python3"
  },
  "language_info": {
   "codemirror_mode": {
    "name": "ipython",
    "version": 3
   },
   "file_extension": ".py",
   "mimetype": "text/x-python",
   "name": "python",
   "nbconvert_exporter": "python",
   "pygments_lexer": "ipython3",
   "version": "3.7.0"
  }
 },
 "nbformat": 4,
 "nbformat_minor": 2
}
